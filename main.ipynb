{
 "cells": [
  {
   "cell_type": "markdown",
   "metadata": {},
   "source": [
    "# Automated Essay Scoring"
   ]
  },
  {
   "cell_type": "markdown",
   "metadata": {},
   "source": [
    "## 1. Business Understanding"
   ]
  },
  {
   "cell_type": "markdown",
   "metadata": {},
   "source": [
    "Teaching students how to write well is essential since it enables them to convey their ideas, offer arguments that persuade others and ultimately to succeed in their personal and academic endevours [(McNamara, 2015)](https://www.sciencedirect.com/science/article/abs/pii/S1075293514000427). As such, writing exercises such as essays are a powerful tool for evaluating and preparing students in this area. However, grading essays manually is time-consuming and expensive for states. As a result, educational institutions opt in for multiple-choice standardized tests instead . Thus, developing high-fidelity automated essay scoring tools is of utmost importance."
   ]
  },
  {
   "cell_type": "markdown",
   "metadata": {},
   "source": [
    "## 2. Exploratory Data Analysis"
   ]
  },
  {
   "cell_type": "code",
   "execution_count": 10,
   "metadata": {},
   "outputs": [],
   "source": [
    "%reset"
   ]
  },
  {
   "cell_type": "code",
   "execution_count": 11,
   "metadata": {},
   "outputs": [],
   "source": [
    "import importlib\n",
    "import matplotlib.pyplot as plt\n",
    "import pandas as pd\n",
    "import spacy\n",
    "import sys\n",
    "sys.path.append('./src')\n",
    "\n",
    "import feature_engineering, preprocessing, visualizations\n",
    "from feature_engineering import extract_coh_metrix_features\n",
    "from preprocessing import normalize_scores\n",
    "from visualizations import compare_raters"
   ]
  },
  {
   "cell_type": "code",
   "execution_count": 12,
   "metadata": {},
   "outputs": [
    {
     "name": "stderr",
     "output_type": "stream",
     "text": [
      "[nltk_data] Downloading package stopwords to\n",
      "[nltk_data]     C:\\Users\\setar\\AppData\\Roaming\\nltk_data...\n",
      "[nltk_data]   Package stopwords is already up-to-date!\n"
     ]
    },
    {
     "data": {
      "text/plain": [
       "<module 'visualizations' from 'd:\\\\DS_Flat_Iron\\\\Phase_V\\\\project\\\\education_early_intervention\\\\./src\\\\visualizations.py'>"
      ]
     },
     "execution_count": 12,
     "metadata": {},
     "output_type": "execute_result"
    }
   ],
   "source": [
    "importlib.reload(feature_engineering)\n",
    "importlib.reload(preprocessing)\n",
    "importlib.reload(visualizations)"
   ]
  },
  {
   "cell_type": "code",
   "execution_count": 13,
   "metadata": {},
   "outputs": [
    {
     "data": {
      "text/html": [
       "<div>\n",
       "<style scoped>\n",
       "    .dataframe tbody tr th:only-of-type {\n",
       "        vertical-align: middle;\n",
       "    }\n",
       "\n",
       "    .dataframe tbody tr th {\n",
       "        vertical-align: top;\n",
       "    }\n",
       "\n",
       "    .dataframe thead th {\n",
       "        text-align: right;\n",
       "    }\n",
       "</style>\n",
       "<table border=\"1\" class=\"dataframe\">\n",
       "  <thead>\n",
       "    <tr style=\"text-align: right;\">\n",
       "      <th></th>\n",
       "      <th>essay_set</th>\n",
       "      <th>essay</th>\n",
       "      <th>rater1_domain1</th>\n",
       "      <th>rater2_domain1</th>\n",
       "      <th>rater3_domain1</th>\n",
       "      <th>domain1_score</th>\n",
       "      <th>rater1_domain2</th>\n",
       "      <th>rater2_domain2</th>\n",
       "      <th>domain2_score</th>\n",
       "      <th>rater1_trait1</th>\n",
       "      <th>...</th>\n",
       "      <th>rater2_trait3</th>\n",
       "      <th>rater2_trait4</th>\n",
       "      <th>rater2_trait5</th>\n",
       "      <th>rater2_trait6</th>\n",
       "      <th>rater3_trait1</th>\n",
       "      <th>rater3_trait2</th>\n",
       "      <th>rater3_trait3</th>\n",
       "      <th>rater3_trait4</th>\n",
       "      <th>rater3_trait5</th>\n",
       "      <th>rater3_trait6</th>\n",
       "    </tr>\n",
       "    <tr>\n",
       "      <th>essay_id</th>\n",
       "      <th></th>\n",
       "      <th></th>\n",
       "      <th></th>\n",
       "      <th></th>\n",
       "      <th></th>\n",
       "      <th></th>\n",
       "      <th></th>\n",
       "      <th></th>\n",
       "      <th></th>\n",
       "      <th></th>\n",
       "      <th></th>\n",
       "      <th></th>\n",
       "      <th></th>\n",
       "      <th></th>\n",
       "      <th></th>\n",
       "      <th></th>\n",
       "      <th></th>\n",
       "      <th></th>\n",
       "      <th></th>\n",
       "      <th></th>\n",
       "      <th></th>\n",
       "    </tr>\n",
       "  </thead>\n",
       "  <tbody>\n",
       "    <tr>\n",
       "      <th>1</th>\n",
       "      <td>1</td>\n",
       "      <td>Dear local newspaper, I think effects computer...</td>\n",
       "      <td>4</td>\n",
       "      <td>4</td>\n",
       "      <td>NaN</td>\n",
       "      <td>8</td>\n",
       "      <td>NaN</td>\n",
       "      <td>NaN</td>\n",
       "      <td>NaN</td>\n",
       "      <td>NaN</td>\n",
       "      <td>...</td>\n",
       "      <td>NaN</td>\n",
       "      <td>NaN</td>\n",
       "      <td>NaN</td>\n",
       "      <td>NaN</td>\n",
       "      <td>NaN</td>\n",
       "      <td>NaN</td>\n",
       "      <td>NaN</td>\n",
       "      <td>NaN</td>\n",
       "      <td>NaN</td>\n",
       "      <td>NaN</td>\n",
       "    </tr>\n",
       "    <tr>\n",
       "      <th>2</th>\n",
       "      <td>1</td>\n",
       "      <td>Dear @CAPS1 @CAPS2, I believe that using compu...</td>\n",
       "      <td>5</td>\n",
       "      <td>4</td>\n",
       "      <td>NaN</td>\n",
       "      <td>9</td>\n",
       "      <td>NaN</td>\n",
       "      <td>NaN</td>\n",
       "      <td>NaN</td>\n",
       "      <td>NaN</td>\n",
       "      <td>...</td>\n",
       "      <td>NaN</td>\n",
       "      <td>NaN</td>\n",
       "      <td>NaN</td>\n",
       "      <td>NaN</td>\n",
       "      <td>NaN</td>\n",
       "      <td>NaN</td>\n",
       "      <td>NaN</td>\n",
       "      <td>NaN</td>\n",
       "      <td>NaN</td>\n",
       "      <td>NaN</td>\n",
       "    </tr>\n",
       "  </tbody>\n",
       "</table>\n",
       "<p>2 rows × 27 columns</p>\n",
       "</div>"
      ],
      "text/plain": [
       "          essay_set                                              essay  \\\n",
       "essay_id                                                                 \n",
       "1                 1  Dear local newspaper, I think effects computer...   \n",
       "2                 1  Dear @CAPS1 @CAPS2, I believe that using compu...   \n",
       "\n",
       "          rater1_domain1  rater2_domain1  rater3_domain1  domain1_score  \\\n",
       "essay_id                                                                  \n",
       "1                      4               4             NaN              8   \n",
       "2                      5               4             NaN              9   \n",
       "\n",
       "          rater1_domain2  rater2_domain2  domain2_score  rater1_trait1  ...  \\\n",
       "essay_id                                                                ...   \n",
       "1                    NaN             NaN            NaN            NaN  ...   \n",
       "2                    NaN             NaN            NaN            NaN  ...   \n",
       "\n",
       "          rater2_trait3  rater2_trait4  rater2_trait5  rater2_trait6  \\\n",
       "essay_id                                                               \n",
       "1                   NaN            NaN            NaN            NaN   \n",
       "2                   NaN            NaN            NaN            NaN   \n",
       "\n",
       "          rater3_trait1  rater3_trait2  rater3_trait3  rater3_trait4  \\\n",
       "essay_id                                                               \n",
       "1                   NaN            NaN            NaN            NaN   \n",
       "2                   NaN            NaN            NaN            NaN   \n",
       "\n",
       "          rater3_trait5  rater3_trait6  \n",
       "essay_id                                \n",
       "1                   NaN            NaN  \n",
       "2                   NaN            NaN  \n",
       "\n",
       "[2 rows x 27 columns]"
      ]
     },
     "execution_count": 13,
     "metadata": {},
     "output_type": "execute_result"
    }
   ],
   "source": [
    "df = pd.read_csv('./data/training_set_rel3.tsv', sep='\\t', encoding='ISO-8859-1', index_col=0)\n",
    "df.head(2)"
   ]
  },
  {
   "cell_type": "code",
   "execution_count": 14,
   "metadata": {},
   "outputs": [
    {
     "data": {
      "text/plain": [
       "essay_set             0\n",
       "essay                 0\n",
       "rater1_domain1        0\n",
       "rater2_domain1        0\n",
       "rater3_domain1    12848\n",
       "domain1_score         0\n",
       "rater1_domain2    11176\n",
       "rater2_domain2    11176\n",
       "domain2_score     11176\n",
       "rater1_trait1     10684\n",
       "rater1_trait2     10684\n",
       "rater1_trait3     10684\n",
       "rater1_trait4     10684\n",
       "rater1_trait5     12253\n",
       "rater1_trait6     12253\n",
       "rater2_trait1     10684\n",
       "rater2_trait2     10684\n",
       "rater2_trait3     10684\n",
       "rater2_trait4     10684\n",
       "rater2_trait5     12253\n",
       "rater2_trait6     12253\n",
       "rater3_trait1     12848\n",
       "rater3_trait2     12848\n",
       "rater3_trait3     12848\n",
       "rater3_trait4     12848\n",
       "rater3_trait5     12848\n",
       "rater3_trait6     12848\n",
       "dtype: int64"
      ]
     },
     "execution_count": 14,
     "metadata": {},
     "output_type": "execute_result"
    }
   ],
   "source": [
    "df.isna().sum()"
   ]
  },
  {
   "cell_type": "code",
   "execution_count": 15,
   "metadata": {},
   "outputs": [
    {
     "data": {
      "text/html": [
       "<div>\n",
       "<style scoped>\n",
       "    .dataframe tbody tr th:only-of-type {\n",
       "        vertical-align: middle;\n",
       "    }\n",
       "\n",
       "    .dataframe tbody tr th {\n",
       "        vertical-align: top;\n",
       "    }\n",
       "\n",
       "    .dataframe thead th {\n",
       "        text-align: right;\n",
       "    }\n",
       "</style>\n",
       "<table border=\"1\" class=\"dataframe\">\n",
       "  <thead>\n",
       "    <tr style=\"text-align: right;\">\n",
       "      <th></th>\n",
       "      <th>essay_set</th>\n",
       "      <th>essay</th>\n",
       "      <th>rater1_score</th>\n",
       "      <th>rater2_score</th>\n",
       "      <th>final_score</th>\n",
       "    </tr>\n",
       "    <tr>\n",
       "      <th>essay_id</th>\n",
       "      <th></th>\n",
       "      <th></th>\n",
       "      <th></th>\n",
       "      <th></th>\n",
       "      <th></th>\n",
       "    </tr>\n",
       "  </thead>\n",
       "  <tbody>\n",
       "    <tr>\n",
       "      <th>1</th>\n",
       "      <td>1</td>\n",
       "      <td>Dear local newspaper, I think effects computer...</td>\n",
       "      <td>4</td>\n",
       "      <td>4</td>\n",
       "      <td>8</td>\n",
       "    </tr>\n",
       "    <tr>\n",
       "      <th>2</th>\n",
       "      <td>1</td>\n",
       "      <td>Dear @CAPS1 @CAPS2, I believe that using compu...</td>\n",
       "      <td>5</td>\n",
       "      <td>4</td>\n",
       "      <td>9</td>\n",
       "    </tr>\n",
       "    <tr>\n",
       "      <th>3</th>\n",
       "      <td>1</td>\n",
       "      <td>Dear, @CAPS1 @CAPS2 @CAPS3 More and more peopl...</td>\n",
       "      <td>4</td>\n",
       "      <td>3</td>\n",
       "      <td>7</td>\n",
       "    </tr>\n",
       "    <tr>\n",
       "      <th>4</th>\n",
       "      <td>1</td>\n",
       "      <td>Dear Local Newspaper, @CAPS1 I have found that...</td>\n",
       "      <td>5</td>\n",
       "      <td>5</td>\n",
       "      <td>10</td>\n",
       "    </tr>\n",
       "    <tr>\n",
       "      <th>5</th>\n",
       "      <td>1</td>\n",
       "      <td>Dear @LOCATION1, I know having computers has a...</td>\n",
       "      <td>4</td>\n",
       "      <td>4</td>\n",
       "      <td>8</td>\n",
       "    </tr>\n",
       "  </tbody>\n",
       "</table>\n",
       "</div>"
      ],
      "text/plain": [
       "          essay_set                                              essay  \\\n",
       "essay_id                                                                 \n",
       "1                 1  Dear local newspaper, I think effects computer...   \n",
       "2                 1  Dear @CAPS1 @CAPS2, I believe that using compu...   \n",
       "3                 1  Dear, @CAPS1 @CAPS2 @CAPS3 More and more peopl...   \n",
       "4                 1  Dear Local Newspaper, @CAPS1 I have found that...   \n",
       "5                 1  Dear @LOCATION1, I know having computers has a...   \n",
       "\n",
       "          rater1_score  rater2_score  final_score  \n",
       "essay_id                                           \n",
       "1                    4             4            8  \n",
       "2                    5             4            9  \n",
       "3                    4             3            7  \n",
       "4                    5             5           10  \n",
       "5                    4             4            8  "
      ]
     },
     "execution_count": 15,
     "metadata": {},
     "output_type": "execute_result"
    }
   ],
   "source": [
    "cols_to_keep = ['essay_set', 'essay', 'rater1_domain1', 'rater2_domain1', 'domain1_score']\n",
    "df = df[cols_to_keep]\n",
    "df.rename(columns={'rater1_domain1':'rater1_score','rater2_domain1':'rater2_score', 'domain1_score':'final_score'}, inplace=True)\n",
    "df.head()"
   ]
  },
  {
   "cell_type": "markdown",
   "metadata": {},
   "source": [
    "### 2.1. Distribution of scores and agreement of human raters\n",
    "Each set of essays has its own score range (outlined in the code cell below). In order to visualize the distribution of scores for all essays and later on use them as one single training set, we need to normalize the scores. We choose to normalize all scores to the range 0-10 through a linear transformation. "
   ]
  },
  {
   "cell_type": "code",
   "execution_count": 16,
   "metadata": {},
   "outputs": [],
   "source": [
    "# min-max range for each essay set\n",
    "num_essay_sets = len(df['essay_set'].unique())\n",
    "rubric_range = {\n",
    "    1: {'rater_min': 1, 'rater_max': 6, 'final_min': 2, 'final_max': 12},\n",
    "    2: {'rater_min': 1, 'rater_max': 6, 'final_min': 1, 'final_max': 6},\n",
    "    3: {'rater_min': 0, 'rater_max': 3, 'final_min': 0, 'final_max': 3},\n",
    "    4: {'rater_min': 0, 'rater_max': 3, 'final_min': 0, 'final_max': 3},\n",
    "    5: {'rater_min': 0, 'rater_max': 4, 'final_min': 0, 'final_max': 4},\n",
    "    6: {'rater_min': 0, 'rater_max': 4, 'final_min': 0, 'final_max': 4},\n",
    "    7: {'rater_min': 0, 'rater_max': 15, 'final_min': 0, 'final_max': 30},\n",
    "    8: {'rater_min': 0, 'rater_max': 30, 'final_min': 0, 'final_max': 60}\n",
    "}"
   ]
  },
  {
   "cell_type": "code",
   "execution_count": 17,
   "metadata": {},
   "outputs": [
    {
     "data": {
      "text/html": [
       "<div>\n",
       "<style scoped>\n",
       "    .dataframe tbody tr th:only-of-type {\n",
       "        vertical-align: middle;\n",
       "    }\n",
       "\n",
       "    .dataframe tbody tr th {\n",
       "        vertical-align: top;\n",
       "    }\n",
       "\n",
       "    .dataframe thead th {\n",
       "        text-align: right;\n",
       "    }\n",
       "</style>\n",
       "<table border=\"1\" class=\"dataframe\">\n",
       "  <thead>\n",
       "    <tr style=\"text-align: right;\">\n",
       "      <th></th>\n",
       "      <th>essay_set</th>\n",
       "      <th>essay</th>\n",
       "      <th>rater1_score</th>\n",
       "      <th>rater2_score</th>\n",
       "      <th>final_score</th>\n",
       "      <th>rater1_score_norm</th>\n",
       "      <th>rater2_score_norm</th>\n",
       "      <th>final_score_norm</th>\n",
       "    </tr>\n",
       "    <tr>\n",
       "      <th>essay_id</th>\n",
       "      <th></th>\n",
       "      <th></th>\n",
       "      <th></th>\n",
       "      <th></th>\n",
       "      <th></th>\n",
       "      <th></th>\n",
       "      <th></th>\n",
       "      <th></th>\n",
       "    </tr>\n",
       "  </thead>\n",
       "  <tbody>\n",
       "    <tr>\n",
       "      <th>1</th>\n",
       "      <td>1</td>\n",
       "      <td>Dear local newspaper, I think effects computer...</td>\n",
       "      <td>4</td>\n",
       "      <td>4</td>\n",
       "      <td>8</td>\n",
       "      <td>6.0</td>\n",
       "      <td>6.0</td>\n",
       "      <td>6.0</td>\n",
       "    </tr>\n",
       "    <tr>\n",
       "      <th>2</th>\n",
       "      <td>1</td>\n",
       "      <td>Dear @CAPS1 @CAPS2, I believe that using compu...</td>\n",
       "      <td>5</td>\n",
       "      <td>4</td>\n",
       "      <td>9</td>\n",
       "      <td>8.0</td>\n",
       "      <td>6.0</td>\n",
       "      <td>7.0</td>\n",
       "    </tr>\n",
       "    <tr>\n",
       "      <th>3</th>\n",
       "      <td>1</td>\n",
       "      <td>Dear, @CAPS1 @CAPS2 @CAPS3 More and more peopl...</td>\n",
       "      <td>4</td>\n",
       "      <td>3</td>\n",
       "      <td>7</td>\n",
       "      <td>6.0</td>\n",
       "      <td>4.0</td>\n",
       "      <td>5.0</td>\n",
       "    </tr>\n",
       "    <tr>\n",
       "      <th>4</th>\n",
       "      <td>1</td>\n",
       "      <td>Dear Local Newspaper, @CAPS1 I have found that...</td>\n",
       "      <td>5</td>\n",
       "      <td>5</td>\n",
       "      <td>10</td>\n",
       "      <td>8.0</td>\n",
       "      <td>8.0</td>\n",
       "      <td>8.0</td>\n",
       "    </tr>\n",
       "    <tr>\n",
       "      <th>5</th>\n",
       "      <td>1</td>\n",
       "      <td>Dear @LOCATION1, I know having computers has a...</td>\n",
       "      <td>4</td>\n",
       "      <td>4</td>\n",
       "      <td>8</td>\n",
       "      <td>6.0</td>\n",
       "      <td>6.0</td>\n",
       "      <td>6.0</td>\n",
       "    </tr>\n",
       "  </tbody>\n",
       "</table>\n",
       "</div>"
      ],
      "text/plain": [
       "          essay_set                                              essay  \\\n",
       "essay_id                                                                 \n",
       "1                 1  Dear local newspaper, I think effects computer...   \n",
       "2                 1  Dear @CAPS1 @CAPS2, I believe that using compu...   \n",
       "3                 1  Dear, @CAPS1 @CAPS2 @CAPS3 More and more peopl...   \n",
       "4                 1  Dear Local Newspaper, @CAPS1 I have found that...   \n",
       "5                 1  Dear @LOCATION1, I know having computers has a...   \n",
       "\n",
       "          rater1_score  rater2_score  final_score  rater1_score_norm  \\\n",
       "essay_id                                                               \n",
       "1                    4             4            8                6.0   \n",
       "2                    5             4            9                8.0   \n",
       "3                    4             3            7                6.0   \n",
       "4                    5             5           10                8.0   \n",
       "5                    4             4            8                6.0   \n",
       "\n",
       "          rater2_score_norm  final_score_norm  \n",
       "essay_id                                       \n",
       "1                       6.0               6.0  \n",
       "2                       6.0               7.0  \n",
       "3                       4.0               5.0  \n",
       "4                       8.0               8.0  \n",
       "5                       6.0               6.0  "
      ]
     },
     "execution_count": 17,
     "metadata": {},
     "output_type": "execute_result"
    }
   ],
   "source": [
    "for i in range(num_essay_sets):\n",
    "    mask = df['essay_set'] == i+1\n",
    "    df.loc[mask, 'rater1_score_norm'] = df.loc[mask].apply(normalize_scores, axis=1, \n",
    "                                                            args=('rater1_score', rubric_range[i+1]['rater_min'], rubric_range[i+1]['rater_max']))\n",
    "    df.loc[mask, 'rater2_score_norm'] = df.loc[mask].apply(normalize_scores, axis=1, \n",
    "                                                            args=('rater2_score', rubric_range[i+1]['rater_min'], rubric_range[i+1]['rater_max']))\n",
    "    df.loc[mask, 'final_score_norm'] = df.loc[mask].apply(normalize_scores, axis=1, \n",
    "                                                            args=('final_score', rubric_range[i+1]['final_min'], rubric_range[i+1]['final_max']))\n",
    "df.head()"
   ]
  },
  {
   "cell_type": "markdown",
   "metadata": {},
   "source": [
    "**Inter-Rater Reliability (IRR):**  \n",
    "IRR refers to how well raters agree given the same input data. Since we will evaluate the machine learning models based on how well they agree with human raters, it's important to have a benchmark for how well human raters agree among themselves (Ghanta, 2019). In this section, we visualize the agreement between raters 1 and 2 for individual essay sets, as well as all essays. \n",
    "\n",
    "Note that normalization of scores and binning them can affect Cohen's Kappa in unexpected ways. Therefore, the Cohen's Kappa is determined for each essay set individually, using the original rubric range. In the end, the mean over all coefficients is used as the average agreement score between human raters. "
   ]
  },
  {
   "cell_type": "code",
   "execution_count": 18,
   "metadata": {},
   "outputs": [
    {
     "name": "stdout",
     "output_type": "stream",
     "text": [
      "Average of Cohen's Kappa is: 0.75\n",
      "Standard deviation of Cohen's Kappa is: 0.07\n"
     ]
    },
    {
     "data": {
      "image/png": "[encoded data removed]",
      "text/plain": [
       "<Figure size 640x480 with 1 Axes>"
      ]
     },
     "metadata": {},
     "output_type": "display_data"
    },
    {
     "data": {
      "image/png": "[encoded data removed]",
      "text/plain": [
       "<Figure size 1200x600 with 8 Axes>"
      ]
     },
     "metadata": {},
     "output_type": "display_data"
    }
   ],
   "source": [
    "compare_raters(df)"
   ]
  },
  {
   "cell_type": "markdown",
   "metadata": {},
   "source": [
    "As it can be seen, the average of Kohen's Kappa across all 8 sets of essays is 0.75 $\\pm$ 0.07. This indicates substantial agreement among human raters. This baseline is important since we would like to compare the agreement between a human rater with the automated scoring system. "
   ]
  },
  {
   "cell_type": "markdown",
   "metadata": {},
   "source": [
    "## 3. Machine Learning Model"
   ]
  },
  {
   "cell_type": "markdown",
   "metadata": {},
   "source": [
    "### 3.1. Feature Engineering\n",
    "\n"
   ]
  },
  {
   "cell_type": "code",
   "execution_count": 17,
   "metadata": {},
   "outputs": [],
   "source": [
    "import importlib\n",
    "import pandas as pd\n",
    "import spacy\n",
    "import textstat\n",
    "nlp = spacy.load(\"en_core_web_sm\")\n",
    "text = \"This is an example sentence. It is followed by another sentence.\"\n",
    "doc = nlp(text)\n",
    "import sys\n",
    "sys.path.append('./src')\n",
    "import feature_engineering\n",
    "from feature_engineering import extract_coh_metrix_features"
   ]
  },
  {
   "cell_type": "code",
   "execution_count": 18,
   "metadata": {},
   "outputs": [
    {
     "name": "stderr",
     "output_type": "stream",
     "text": [
      "[nltk_data] Downloading package stopwords to\n",
      "[nltk_data]     C:\\Users\\setar\\AppData\\Roaming\\nltk_data...\n",
      "[nltk_data]   Package stopwords is already up-to-date!\n"
     ]
    },
    {
     "data": {
      "text/plain": [
       "<module 'feature_engineering' from 'd:\\\\DS_Flat_Iron\\\\Phase_V\\\\project\\\\education_early_intervention\\\\./src\\\\feature_engineering.py'>"
      ]
     },
     "execution_count": 18,
     "metadata": {},
     "output_type": "execute_result"
    }
   ],
   "source": [
    "importlib.reload(feature_engineering)"
   ]
  },
  {
   "cell_type": "code",
   "execution_count": 19,
   "metadata": {},
   "outputs": [],
   "source": [
    "df = pd.read_csv('./data/training_set_rel3.tsv', sep='\\t', encoding='ISO-8859-1')"
   ]
  },
  {
   "cell_type": "code",
   "execution_count": 23,
   "metadata": {},
   "outputs": [],
   "source": [
    "# extract features for each essay\n",
    "# establish the dataframe\n",
    "# include the scores in the dataframe as the target\n",
    "# train-test split\n",
    "# scale X\n",
    "# fit-transform the regression model\n",
    "# cross-validate, evaluate test scores"
   ]
  },
  {
   "cell_type": "code",
   "execution_count": 20,
   "metadata": {},
   "outputs": [],
   "source": [
    "my_dict = extract_coh_metrix_features(df.iloc[1]['essay'])"
   ]
  },
  {
   "cell_type": "code",
   "execution_count": 22,
   "metadata": {},
   "outputs": [
    {
     "data": {
      "text/plain": [
       "{'num_words': 410,\n",
       " 'num_sentences': 20,\n",
       " 'avg_sentence_length': 20.5,\n",
       " 'std_sentence_length': 12.006577144916951,\n",
       " 'avg_syllable_count': 1.3756097560975609,\n",
       " 'std_syllable_count': 0.7168187284042866,\n",
       " 'avg_letter_count': 4.290243902439024,\n",
       " 'std_letter_count': 2.324768819176552,\n",
       " 'flesch_reading_ease': 67.08,\n",
       " 'flesh_kincaid_grade': 9.1,\n",
       " 'smog_index': 11.8,\n",
       " 'lexical_diversity': 0.47804878048780486,\n",
       " 'num_stopwords': 0.47560975609756095,\n",
       " 'num_pronouns': 0.12195121951219512,\n",
       " 'num_verbs': 0.16829268292682928,\n",
       " 'avg_tree_depth': 3.7756097560975608,\n",
       " 'avg_concreteness': 2.1646341463414633,\n",
       " 'avg_adj_noun_overlaps': 0.631578947368421,\n",
       " 'avg_adj_arg_overlaps': 0.6842105263157895,\n",
       " 'avg_adj_lemma_overlaps': 1.0,\n",
       " 'lsa_overlap_avg': 0.48565653481437243,\n",
       " 'lsa_overlap_std': 0.006981780752295202,\n",
       " 'connectives': 0.04878048780487805,\n",
       " 'avg_words_before_verb': 3.0,\n",
       " 'num_misspelled': 0.03170731707317073}"
      ]
     },
     "execution_count": 22,
     "metadata": {},
     "output_type": "execute_result"
    }
   ],
   "source": [
    "my_dict"
   ]
  },
  {
   "cell_type": "code",
   "execution_count": 18,
   "metadata": {},
   "outputs": [
    {
     "data": {
      "text/plain": [
       "['nsubj', 'ROOT', 'det', 'attr', 'punct']"
      ]
     },
     "execution_count": 18,
     "metadata": {},
     "output_type": "execute_result"
    }
   ],
   "source": [
    "from spacy_syllables import SpacySyllables\n",
    "nlp.add_pipe(\"syllables\", after=\"tagger\")\n",
    "\n",
    "nlp = spacy.load(\"en_core_web_sm\")\n",
    "sentence = nlp('I am a horse. This is funny.')\n",
    "words_per_sentence = [token.text for token in sentence if token.is_alpha]\n",
    "sentences = list(sentence.sents)\n",
    "[token.dep_ for token in sentences[0]]\n"
   ]
  },
  {
   "cell_type": "code",
   "execution_count": 54,
   "metadata": {},
   "outputs": [
    {
     "data": {
      "text/plain": [
       "array([[1.00000000e+00, 2.15887713e-16],\n",
       "       [1.12172823e-16, 1.00000000e+00]])"
      ]
     },
     "execution_count": 54,
     "metadata": {},
     "output_type": "execute_result"
    }
   ],
   "source": [
    "from sklearn.feature_extraction.text import TfidfVectorizer\n",
    "from sklearn.decomposition import TruncatedSVD\n",
    "from sklearn.metrics.pairwise import cosine_similarity\n",
    "vectorizer =  TfidfVectorizer()\n",
    "sents = [sent.text.strip() for sent in sentence.sents if sent.text.strip()]\n",
    "tfid_mat = vectorizer.fit_transform(sents)\n",
    "vectorizer.get_feature_names_out()\n",
    "svd = TruncatedSVD()\n",
    "lsa_vecs = svd.fit_transform(tfid_mat)\n",
    "lsa_vecs"
   ]
  },
  {
   "cell_type": "code",
   "execution_count": 55,
   "metadata": {},
   "outputs": [
    {
     "data": {
      "text/plain": [
       "(2,)"
      ]
     },
     "execution_count": 55,
     "metadata": {},
     "output_type": "execute_result"
    }
   ],
   "source": [
    "lsa_vecs[0].shape"
   ]
  },
  {
   "cell_type": "code",
   "execution_count": 56,
   "metadata": {},
   "outputs": [
    {
     "data": {
      "text/plain": [
       "3.280605364413937e-16"
      ]
     },
     "execution_count": 56,
     "metadata": {},
     "output_type": "execute_result"
    }
   ],
   "source": [
    "cosine_similarity(lsa_vecs[0].reshape(1,-1), lsa_vecs[1].reshape(1,-1))[0,0]"
   ]
  },
  {
   "cell_type": "code",
   "execution_count": 57,
   "metadata": {},
   "outputs": [
    {
     "data": {
      "text/plain": [
       "{'num_words': 340,\n",
       " 'num_sentences': 16,\n",
       " 'avg_sentence_length': 21.25,\n",
       " 'std_sentence_length': 13.59166411199649,\n",
       " 'avg_syllable_count': 1.2588235294117647,\n",
       " 'std_syllable_count': 0.5779210258582909,\n",
       " 'avg_letter_count': 4.182352941176471,\n",
       " 'std_letter_count': 2.0686550414157514,\n",
       " 'flesch_reading_ease': 65.56,\n",
       " 'smog_index': 10.7,\n",
       " 'lexical_diversity': 0.4823529411764706,\n",
       " 'num_stopwords': 0.5323529411764706,\n",
       " 'num_pronouns': 0.1411764705882353,\n",
       " 'num_verbs': 0.14705882352941177,\n",
       " 'avg_tree_depth': 3.614705882352941,\n",
       " 'avg_concreteness': 2.331794117647059,\n",
       " 'avg_adj_noun_overlaps': 0.5333333333333333,\n",
       " 'avg_adj_arg_overlaps': 0.6666666666666666,\n",
       " 'avg_adj_lemma_overlaps': 0.9333333333333333,\n",
       " 'connectives': 5,\n",
       " 'avg_words_before_verb': 4.6}"
      ]
     },
     "execution_count": 57,
     "metadata": {},
     "output_type": "execute_result"
    }
   ],
   "source": [
    "my_dict"
   ]
  },
  {
   "cell_type": "code",
   "execution_count": 13,
   "metadata": {},
   "outputs": [],
   "source": [
    "list(doc.sents)\n",
    "textstat.flesch_reading_ease(text)\n",
    "words = [word.text for word in doc if word.is_alpha]"
   ]
  },
  {
   "cell_type": "code",
   "execution_count": 9,
   "metadata": {},
   "outputs": [
    {
     "data": {
      "text/plain": [
       "9"
      ]
     },
     "execution_count": 9,
     "metadata": {},
     "output_type": "execute_result"
    }
   ],
   "source": [
    "len('paramount')"
   ]
  },
  {
   "cell_type": "code",
   "execution_count": 15,
   "metadata": {},
   "outputs": [
    {
     "data": {
      "text/plain": [
       "This is an example sentence. It is followed by another sentence."
      ]
     },
     "execution_count": 15,
     "metadata": {},
     "output_type": "execute_result"
    }
   ],
   "source": [
    "doc"
   ]
  },
  {
   "cell_type": "code",
   "execution_count": null,
   "metadata": {},
   "outputs": [],
   "source": []
  }
 ],
 "metadata": {
  "kernelspec": {
   "display_name": "my-learn-env",
   "language": "python",
   "name": "python3"
  },
  "language_info": {
   "codemirror_mode": {
    "name": "ipython",
    "version": 3
   },
   "file_extension": ".py",
   "mimetype": "text/x-python",
   "name": "python",
   "nbconvert_exporter": "python",
   "pygments_lexer": "ipython3",
   "version": "3.9.18"
  }
 },
 "nbformat": 4,
 "nbformat_minor": 2
}
