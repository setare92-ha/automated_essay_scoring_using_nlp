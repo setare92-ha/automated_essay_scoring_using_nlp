{
 "cells": [
  {
   "cell_type": "markdown",
   "metadata": {},
   "source": [
    "# Automated Essay Scoring"
   ]
  },
  {
   "cell_type": "markdown",
   "metadata": {},
   "source": [
    "## 1. Business Understanding"
   ]
  },
  {
   "cell_type": "markdown",
   "metadata": {},
   "source": [
    "Teaching students how to write well is essential since it enables them to convey their ideas, offer arguments that persuade others and ultimately to succeed in their personal and academic endevours [(McNamara, 2015)](https://www.sciencedirect.com/science/article/abs/pii/S1075293514000427). As such, writing exercises such as essays are a powerful tool for evaluating and preparing students in this area. However, grading essays manually is time-consuming and expensive for states. As a result, educational institutions opt in for multiple-choice standardized tests instead . Thus, developing high-fidelity automated essay scoring tools is of utmost importance."
   ]
  },
  {
   "cell_type": "markdown",
   "metadata": {},
   "source": [
    "## 2. Exploratory Data Analysis"
   ]
  },
  {
   "cell_type": "code",
   "execution_count": 179,
   "metadata": {},
   "outputs": [],
   "source": [
    "%reset"
   ]
  },
  {
   "cell_type": "code",
   "execution_count": 180,
   "metadata": {},
   "outputs": [],
   "source": [
    "import importlib\n",
    "import matplotlib.pyplot as plt\n",
    "import numpy as np\n",
    "import pandas as pd\n",
    "import seaborn as sns\n",
    "# import spacy\n",
    "import sys\n",
    "sys.path.append('./src')\n",
    "\n",
    "import feature_engineering, preprocessing, visualizations, post_processing\n",
    "from feature_engineering import extract_features_bulk\n",
    "from preprocessing import normalize_scores\n",
    "from post_processing import denormalize_scores\n",
    "from visualizations import compare_raters\n",
    "\n",
    "from sklearn.ensemble import RandomForestRegressor\n",
    "from sklearn.model_selection import train_test_split, RandomizedSearchCV, KFold, cross_val_score\n",
    "from sklearn.metrics import mean_squared_error, r2_score, cohen_kappa_score, confusion_matrix\n",
    "# from sklearn.preprocessing import StandardScaler"
   ]
  },
  {
   "cell_type": "code",
   "execution_count": 181,
   "metadata": {},
   "outputs": [
    {
     "name": "stderr",
     "output_type": "stream",
     "text": [
      "[nltk_data] Downloading package stopwords to\n",
      "[nltk_data]     C:\\Users\\setar\\AppData\\Roaming\\nltk_data...\n",
      "[nltk_data]   Package stopwords is already up-to-date!\n"
     ]
    },
    {
     "data": {
      "text/plain": [
       "<module 'visualizations' from 'd:\\\\DS_Flat_Iron\\\\Phase_V\\\\project\\\\education_early_intervention\\\\./src\\\\visualizations.py'>"
      ]
     },
     "execution_count": 181,
     "metadata": {},
     "output_type": "execute_result"
    }
   ],
   "source": [
    "importlib.reload(feature_engineering)\n",
    "importlib.reload(preprocessing)\n",
    "importlib.reload(visualizations)"
   ]
  },
  {
   "cell_type": "markdown",
   "metadata": {},
   "source": [
    "**Note:** To make the work reproducible and avoid including somewhat complicated instructions on how to pull/download the data from Kaggle, I've included the necessary files being used in the root directory of the project. "
   ]
  },
  {
   "cell_type": "code",
   "execution_count": 182,
   "metadata": {},
   "outputs": [
    {
     "data": {
      "text/html": [
       "<div>\n",
       "<style scoped>\n",
       "    .dataframe tbody tr th:only-of-type {\n",
       "        vertical-align: middle;\n",
       "    }\n",
       "\n",
       "    .dataframe tbody tr th {\n",
       "        vertical-align: top;\n",
       "    }\n",
       "\n",
       "    .dataframe thead th {\n",
       "        text-align: right;\n",
       "    }\n",
       "</style>\n",
       "<table border=\"1\" class=\"dataframe\">\n",
       "  <thead>\n",
       "    <tr style=\"text-align: right;\">\n",
       "      <th></th>\n",
       "      <th>essay_set</th>\n",
       "      <th>essay</th>\n",
       "      <th>rater1_domain1</th>\n",
       "      <th>rater2_domain1</th>\n",
       "      <th>rater3_domain1</th>\n",
       "      <th>domain1_score</th>\n",
       "      <th>rater1_domain2</th>\n",
       "      <th>rater2_domain2</th>\n",
       "      <th>domain2_score</th>\n",
       "      <th>rater1_trait1</th>\n",
       "      <th>...</th>\n",
       "      <th>rater2_trait3</th>\n",
       "      <th>rater2_trait4</th>\n",
       "      <th>rater2_trait5</th>\n",
       "      <th>rater2_trait6</th>\n",
       "      <th>rater3_trait1</th>\n",
       "      <th>rater3_trait2</th>\n",
       "      <th>rater3_trait3</th>\n",
       "      <th>rater3_trait4</th>\n",
       "      <th>rater3_trait5</th>\n",
       "      <th>rater3_trait6</th>\n",
       "    </tr>\n",
       "    <tr>\n",
       "      <th>essay_id</th>\n",
       "      <th></th>\n",
       "      <th></th>\n",
       "      <th></th>\n",
       "      <th></th>\n",
       "      <th></th>\n",
       "      <th></th>\n",
       "      <th></th>\n",
       "      <th></th>\n",
       "      <th></th>\n",
       "      <th></th>\n",
       "      <th></th>\n",
       "      <th></th>\n",
       "      <th></th>\n",
       "      <th></th>\n",
       "      <th></th>\n",
       "      <th></th>\n",
       "      <th></th>\n",
       "      <th></th>\n",
       "      <th></th>\n",
       "      <th></th>\n",
       "      <th></th>\n",
       "    </tr>\n",
       "  </thead>\n",
       "  <tbody>\n",
       "    <tr>\n",
       "      <th>1</th>\n",
       "      <td>1</td>\n",
       "      <td>Dear local newspaper, I think effects computer...</td>\n",
       "      <td>4</td>\n",
       "      <td>4</td>\n",
       "      <td>NaN</td>\n",
       "      <td>8</td>\n",
       "      <td>NaN</td>\n",
       "      <td>NaN</td>\n",
       "      <td>NaN</td>\n",
       "      <td>NaN</td>\n",
       "      <td>...</td>\n",
       "      <td>NaN</td>\n",
       "      <td>NaN</td>\n",
       "      <td>NaN</td>\n",
       "      <td>NaN</td>\n",
       "      <td>NaN</td>\n",
       "      <td>NaN</td>\n",
       "      <td>NaN</td>\n",
       "      <td>NaN</td>\n",
       "      <td>NaN</td>\n",
       "      <td>NaN</td>\n",
       "    </tr>\n",
       "    <tr>\n",
       "      <th>2</th>\n",
       "      <td>1</td>\n",
       "      <td>Dear @CAPS1 @CAPS2, I believe that using compu...</td>\n",
       "      <td>5</td>\n",
       "      <td>4</td>\n",
       "      <td>NaN</td>\n",
       "      <td>9</td>\n",
       "      <td>NaN</td>\n",
       "      <td>NaN</td>\n",
       "      <td>NaN</td>\n",
       "      <td>NaN</td>\n",
       "      <td>...</td>\n",
       "      <td>NaN</td>\n",
       "      <td>NaN</td>\n",
       "      <td>NaN</td>\n",
       "      <td>NaN</td>\n",
       "      <td>NaN</td>\n",
       "      <td>NaN</td>\n",
       "      <td>NaN</td>\n",
       "      <td>NaN</td>\n",
       "      <td>NaN</td>\n",
       "      <td>NaN</td>\n",
       "    </tr>\n",
       "  </tbody>\n",
       "</table>\n",
       "<p>2 rows × 27 columns</p>\n",
       "</div>"
      ],
      "text/plain": [
       "          essay_set                                              essay  \\\n",
       "essay_id                                                                 \n",
       "1                 1  Dear local newspaper, I think effects computer...   \n",
       "2                 1  Dear @CAPS1 @CAPS2, I believe that using compu...   \n",
       "\n",
       "          rater1_domain1  rater2_domain1  rater3_domain1  domain1_score  \\\n",
       "essay_id                                                                  \n",
       "1                      4               4             NaN              8   \n",
       "2                      5               4             NaN              9   \n",
       "\n",
       "          rater1_domain2  rater2_domain2  domain2_score  rater1_trait1  ...  \\\n",
       "essay_id                                                                ...   \n",
       "1                    NaN             NaN            NaN            NaN  ...   \n",
       "2                    NaN             NaN            NaN            NaN  ...   \n",
       "\n",
       "          rater2_trait3  rater2_trait4  rater2_trait5  rater2_trait6  \\\n",
       "essay_id                                                               \n",
       "1                   NaN            NaN            NaN            NaN   \n",
       "2                   NaN            NaN            NaN            NaN   \n",
       "\n",
       "          rater3_trait1  rater3_trait2  rater3_trait3  rater3_trait4  \\\n",
       "essay_id                                                               \n",
       "1                   NaN            NaN            NaN            NaN   \n",
       "2                   NaN            NaN            NaN            NaN   \n",
       "\n",
       "          rater3_trait5  rater3_trait6  \n",
       "essay_id                                \n",
       "1                   NaN            NaN  \n",
       "2                   NaN            NaN  \n",
       "\n",
       "[2 rows x 27 columns]"
      ]
     },
     "execution_count": 182,
     "metadata": {},
     "output_type": "execute_result"
    }
   ],
   "source": [
    "df = pd.read_csv('./training_set_rel3.tsv', sep='\\t', encoding='ISO-8859-1', index_col=0)\n",
    "df.head(2)"
   ]
  },
  {
   "cell_type": "markdown",
   "metadata": {},
   "source": [
    "### 2.1. The Dataset\n",
    "The dataset is from \"The Hewlett Foundation: Automated Essay Scoring\" competition on Kaggle ([Link](https://www.kaggle.com/competitions/asap-aes)). It contains manually-scored essays. The dataset contains 8 essay sets from students grade 7 to 10. On average, each essay is approximately 150 to 550 words in length. Each essay set, has its own prompt, rubric and score range. All essays are scored by two graders and at times of stark contrast between the two grades, a third grader has scored the essay. Except for essay set 2, all essays have a final score field that can be used as the target variable in this study. Essay set #2 was scored by graders in two different domains (in the original competition, it's asked that two different scores be outputted for this essay set). For simplicity, we only use the scores from domain one for this essay set in the present study. \n"
   ]
  },
  {
   "cell_type": "code",
   "execution_count": 183,
   "metadata": {},
   "outputs": [
    {
     "data": {
      "text/plain": [
       "essay_set             0\n",
       "essay                 0\n",
       "rater1_domain1        0\n",
       "rater2_domain1        0\n",
       "rater3_domain1    12848\n",
       "domain1_score         0\n",
       "rater1_domain2    11176\n",
       "rater2_domain2    11176\n",
       "domain2_score     11176\n",
       "rater1_trait1     10684\n",
       "rater1_trait2     10684\n",
       "rater1_trait3     10684\n",
       "rater1_trait4     10684\n",
       "rater1_trait5     12253\n",
       "rater1_trait6     12253\n",
       "rater2_trait1     10684\n",
       "rater2_trait2     10684\n",
       "rater2_trait3     10684\n",
       "rater2_trait4     10684\n",
       "rater2_trait5     12253\n",
       "rater2_trait6     12253\n",
       "rater3_trait1     12848\n",
       "rater3_trait2     12848\n",
       "rater3_trait3     12848\n",
       "rater3_trait4     12848\n",
       "rater3_trait5     12848\n",
       "rater3_trait6     12848\n",
       "dtype: int64"
      ]
     },
     "execution_count": 183,
     "metadata": {},
     "output_type": "execute_result"
    }
   ],
   "source": [
    "df.isna().sum()"
   ]
  },
  {
   "cell_type": "code",
   "execution_count": 184,
   "metadata": {},
   "outputs": [
    {
     "data": {
      "text/html": [
       "<div>\n",
       "<style scoped>\n",
       "    .dataframe tbody tr th:only-of-type {\n",
       "        vertical-align: middle;\n",
       "    }\n",
       "\n",
       "    .dataframe tbody tr th {\n",
       "        vertical-align: top;\n",
       "    }\n",
       "\n",
       "    .dataframe thead th {\n",
       "        text-align: right;\n",
       "    }\n",
       "</style>\n",
       "<table border=\"1\" class=\"dataframe\">\n",
       "  <thead>\n",
       "    <tr style=\"text-align: right;\">\n",
       "      <th></th>\n",
       "      <th>essay_set</th>\n",
       "      <th>essay</th>\n",
       "      <th>rater1_score</th>\n",
       "      <th>rater2_score</th>\n",
       "      <th>final_score</th>\n",
       "    </tr>\n",
       "    <tr>\n",
       "      <th>essay_id</th>\n",
       "      <th></th>\n",
       "      <th></th>\n",
       "      <th></th>\n",
       "      <th></th>\n",
       "      <th></th>\n",
       "    </tr>\n",
       "  </thead>\n",
       "  <tbody>\n",
       "    <tr>\n",
       "      <th>1</th>\n",
       "      <td>1</td>\n",
       "      <td>Dear local newspaper, I think effects computer...</td>\n",
       "      <td>4</td>\n",
       "      <td>4</td>\n",
       "      <td>8</td>\n",
       "    </tr>\n",
       "    <tr>\n",
       "      <th>2</th>\n",
       "      <td>1</td>\n",
       "      <td>Dear @CAPS1 @CAPS2, I believe that using compu...</td>\n",
       "      <td>5</td>\n",
       "      <td>4</td>\n",
       "      <td>9</td>\n",
       "    </tr>\n",
       "    <tr>\n",
       "      <th>3</th>\n",
       "      <td>1</td>\n",
       "      <td>Dear, @CAPS1 @CAPS2 @CAPS3 More and more peopl...</td>\n",
       "      <td>4</td>\n",
       "      <td>3</td>\n",
       "      <td>7</td>\n",
       "    </tr>\n",
       "    <tr>\n",
       "      <th>4</th>\n",
       "      <td>1</td>\n",
       "      <td>Dear Local Newspaper, @CAPS1 I have found that...</td>\n",
       "      <td>5</td>\n",
       "      <td>5</td>\n",
       "      <td>10</td>\n",
       "    </tr>\n",
       "    <tr>\n",
       "      <th>5</th>\n",
       "      <td>1</td>\n",
       "      <td>Dear @LOCATION1, I know having computers has a...</td>\n",
       "      <td>4</td>\n",
       "      <td>4</td>\n",
       "      <td>8</td>\n",
       "    </tr>\n",
       "  </tbody>\n",
       "</table>\n",
       "</div>"
      ],
      "text/plain": [
       "          essay_set                                              essay  \\\n",
       "essay_id                                                                 \n",
       "1                 1  Dear local newspaper, I think effects computer...   \n",
       "2                 1  Dear @CAPS1 @CAPS2, I believe that using compu...   \n",
       "3                 1  Dear, @CAPS1 @CAPS2 @CAPS3 More and more peopl...   \n",
       "4                 1  Dear Local Newspaper, @CAPS1 I have found that...   \n",
       "5                 1  Dear @LOCATION1, I know having computers has a...   \n",
       "\n",
       "          rater1_score  rater2_score  final_score  \n",
       "essay_id                                           \n",
       "1                    4             4            8  \n",
       "2                    5             4            9  \n",
       "3                    4             3            7  \n",
       "4                    5             5           10  \n",
       "5                    4             4            8  "
      ]
     },
     "execution_count": 184,
     "metadata": {},
     "output_type": "execute_result"
    }
   ],
   "source": [
    "cols_to_keep = ['essay_set', 'essay', 'rater1_domain1', 'rater2_domain1', 'domain1_score']\n",
    "df = df[cols_to_keep]\n",
    "df.rename(columns={'rater1_domain1':'rater1_score','rater2_domain1':'rater2_score', 'domain1_score':'final_score'}, inplace=True)\n",
    "df.head()"
   ]
  },
  {
   "cell_type": "markdown",
   "metadata": {},
   "source": [
    "The following figure shows how many essays exist in each set sorted in a descending manner from left to right. "
   ]
  },
  {
   "cell_type": "code",
   "execution_count": 185,
   "metadata": {},
   "outputs": [
    {
     "data": {
      "image/png": "[encoded data removed]",
      "text/plain": [
       "<Figure size 640x480 with 1 Axes>"
      ]
     },
     "metadata": {},
     "output_type": "display_data"
    }
   ],
   "source": [
    "fig, ax = plt.subplots()\n",
    "df.groupby('essay_set').size().sort_values(ascending=False).plot(kind='bar', xlabel = 'Essay set #', ylabel = 'Essay count', title=\"Number of Essays in each set\",color=\"#2b8cbe\", rot=0);"
   ]
  },
  {
   "cell_type": "code",
   "execution_count": 186,
   "metadata": {},
   "outputs": [
    {
     "data": {
      "text/plain": [
       "(12976, 5)"
      ]
     },
     "execution_count": 186,
     "metadata": {},
     "output_type": "execute_result"
    }
   ],
   "source": [
    "df.shape"
   ]
  },
  {
   "cell_type": "markdown",
   "metadata": {},
   "source": [
    "### 2.1. Distribution of scores and agreement of human raters\n",
    "Each set of essays has its own score range (outlined in the code cell below). In order to visualize the distribution of scores for all essays and later on use them as one single training set, we need to normalize the scores. We choose to normalize all scores to the range 0-10 through a linear transformation. "
   ]
  },
  {
   "cell_type": "code",
   "execution_count": 187,
   "metadata": {},
   "outputs": [],
   "source": [
    "# min-max range for each essay set\n",
    "num_essay_sets = len(df['essay_set'].unique())\n",
    "rubric_range = {\n",
    "    1: {'rater_min': 1, 'rater_max': 6, 'final_min': 2, 'final_max': 12},\n",
    "    2: {'rater_min': 1, 'rater_max': 6, 'final_min': 1, 'final_max': 6},\n",
    "    3: {'rater_min': 0, 'rater_max': 3, 'final_min': 0, 'final_max': 3},\n",
    "    4: {'rater_min': 0, 'rater_max': 3, 'final_min': 0, 'final_max': 3},\n",
    "    5: {'rater_min': 0, 'rater_max': 4, 'final_min': 0, 'final_max': 4},\n",
    "    6: {'rater_min': 0, 'rater_max': 4, 'final_min': 0, 'final_max': 4},\n",
    "    7: {'rater_min': 0, 'rater_max': 15, 'final_min': 0, 'final_max': 30},\n",
    "    8: {'rater_min': 0, 'rater_max': 30, 'final_min': 0, 'final_max': 60}\n",
    "}"
   ]
  },
  {
   "cell_type": "code",
   "execution_count": 188,
   "metadata": {},
   "outputs": [
    {
     "data": {
      "text/html": [
       "<div>\n",
       "<style scoped>\n",
       "    .dataframe tbody tr th:only-of-type {\n",
       "        vertical-align: middle;\n",
       "    }\n",
       "\n",
       "    .dataframe tbody tr th {\n",
       "        vertical-align: top;\n",
       "    }\n",
       "\n",
       "    .dataframe thead th {\n",
       "        text-align: right;\n",
       "    }\n",
       "</style>\n",
       "<table border=\"1\" class=\"dataframe\">\n",
       "  <thead>\n",
       "    <tr style=\"text-align: right;\">\n",
       "      <th></th>\n",
       "      <th>essay_set</th>\n",
       "      <th>essay</th>\n",
       "      <th>rater1_score</th>\n",
       "      <th>rater2_score</th>\n",
       "      <th>final_score</th>\n",
       "      <th>rater1_score_norm</th>\n",
       "      <th>rater2_score_norm</th>\n",
       "      <th>final_score_norm</th>\n",
       "    </tr>\n",
       "    <tr>\n",
       "      <th>essay_id</th>\n",
       "      <th></th>\n",
       "      <th></th>\n",
       "      <th></th>\n",
       "      <th></th>\n",
       "      <th></th>\n",
       "      <th></th>\n",
       "      <th></th>\n",
       "      <th></th>\n",
       "    </tr>\n",
       "  </thead>\n",
       "  <tbody>\n",
       "    <tr>\n",
       "      <th>1</th>\n",
       "      <td>1</td>\n",
       "      <td>Dear local newspaper, I think effects computer...</td>\n",
       "      <td>4</td>\n",
       "      <td>4</td>\n",
       "      <td>8</td>\n",
       "      <td>6.0</td>\n",
       "      <td>6.0</td>\n",
       "      <td>6.0</td>\n",
       "    </tr>\n",
       "    <tr>\n",
       "      <th>2</th>\n",
       "      <td>1</td>\n",
       "      <td>Dear @CAPS1 @CAPS2, I believe that using compu...</td>\n",
       "      <td>5</td>\n",
       "      <td>4</td>\n",
       "      <td>9</td>\n",
       "      <td>8.0</td>\n",
       "      <td>6.0</td>\n",
       "      <td>7.0</td>\n",
       "    </tr>\n",
       "    <tr>\n",
       "      <th>3</th>\n",
       "      <td>1</td>\n",
       "      <td>Dear, @CAPS1 @CAPS2 @CAPS3 More and more peopl...</td>\n",
       "      <td>4</td>\n",
       "      <td>3</td>\n",
       "      <td>7</td>\n",
       "      <td>6.0</td>\n",
       "      <td>4.0</td>\n",
       "      <td>5.0</td>\n",
       "    </tr>\n",
       "    <tr>\n",
       "      <th>4</th>\n",
       "      <td>1</td>\n",
       "      <td>Dear Local Newspaper, @CAPS1 I have found that...</td>\n",
       "      <td>5</td>\n",
       "      <td>5</td>\n",
       "      <td>10</td>\n",
       "      <td>8.0</td>\n",
       "      <td>8.0</td>\n",
       "      <td>8.0</td>\n",
       "    </tr>\n",
       "    <tr>\n",
       "      <th>5</th>\n",
       "      <td>1</td>\n",
       "      <td>Dear @LOCATION1, I know having computers has a...</td>\n",
       "      <td>4</td>\n",
       "      <td>4</td>\n",
       "      <td>8</td>\n",
       "      <td>6.0</td>\n",
       "      <td>6.0</td>\n",
       "      <td>6.0</td>\n",
       "    </tr>\n",
       "  </tbody>\n",
       "</table>\n",
       "</div>"
      ],
      "text/plain": [
       "          essay_set                                              essay  \\\n",
       "essay_id                                                                 \n",
       "1                 1  Dear local newspaper, I think effects computer...   \n",
       "2                 1  Dear @CAPS1 @CAPS2, I believe that using compu...   \n",
       "3                 1  Dear, @CAPS1 @CAPS2 @CAPS3 More and more peopl...   \n",
       "4                 1  Dear Local Newspaper, @CAPS1 I have found that...   \n",
       "5                 1  Dear @LOCATION1, I know having computers has a...   \n",
       "\n",
       "          rater1_score  rater2_score  final_score  rater1_score_norm  \\\n",
       "essay_id                                                               \n",
       "1                    4             4            8                6.0   \n",
       "2                    5             4            9                8.0   \n",
       "3                    4             3            7                6.0   \n",
       "4                    5             5           10                8.0   \n",
       "5                    4             4            8                6.0   \n",
       "\n",
       "          rater2_score_norm  final_score_norm  \n",
       "essay_id                                       \n",
       "1                       6.0               6.0  \n",
       "2                       6.0               7.0  \n",
       "3                       4.0               5.0  \n",
       "4                       8.0               8.0  \n",
       "5                       6.0               6.0  "
      ]
     },
     "execution_count": 188,
     "metadata": {},
     "output_type": "execute_result"
    }
   ],
   "source": [
    "for i in range(num_essay_sets):\n",
    "    mask = df['essay_set'] == i+1\n",
    "    df.loc[mask, 'rater1_score_norm'] = df.loc[mask].apply(normalize_scores, axis=1, \n",
    "                                                            args=('rater1_score', rubric_range[i+1]['rater_min'], rubric_range[i+1]['rater_max']))\n",
    "    df.loc[mask, 'rater2_score_norm'] = df.loc[mask].apply(normalize_scores, axis=1, \n",
    "                                                            args=('rater2_score', rubric_range[i+1]['rater_min'], rubric_range[i+1]['rater_max']))\n",
    "    df.loc[mask, 'final_score_norm'] = df.loc[mask].apply(normalize_scores, axis=1, \n",
    "                                                            args=('final_score', rubric_range[i+1]['final_min'], rubric_range[i+1]['final_max']))\n",
    "df.head()"
   ]
  },
  {
   "cell_type": "markdown",
   "metadata": {},
   "source": [
    "**Inter-Rater Reliability (IRR):**  \n",
    "IRR refers to how well raters agree given the same input data. Since we will evaluate the machine learning models based on how well they agree with human raters, it's important to have a benchmark for how well human raters agree among themselves (Ghanta, 2019). In this section, we visualize the agreement between raters 1 and 2 for individual essay sets, as well as all essays. \n",
    "\n",
    "Note that normalization of scores and binning them can affect Cohen's Kappa in unexpected ways. Therefore, the Cohen's Kappa is determined for each essay set individually, using the original rubric range. In the end, the mean over all coefficients is used as the average agreement score between human raters. "
   ]
  },
  {
   "cell_type": "code",
   "execution_count": 189,
   "metadata": {},
   "outputs": [
    {
     "data": {
      "text/plain": [
       "count    12976.000000\n",
       "mean         5.809379\n",
       "std          2.342421\n",
       "min          0.000000\n",
       "25%          4.000000\n",
       "50%          6.000000\n",
       "75%          7.500000\n",
       "max         10.000000\n",
       "Name: final_score_norm, dtype: float64"
      ]
     },
     "execution_count": 189,
     "metadata": {},
     "output_type": "execute_result"
    }
   ],
   "source": [
    "df['final_score_norm'].describe()"
   ]
  },
  {
   "cell_type": "code",
   "execution_count": 190,
   "metadata": {},
   "outputs": [
    {
     "name": "stdout",
     "output_type": "stream",
     "text": [
      "Average of Cohen's Kappa is: 0.75\n",
      "Standard deviation of Cohen's Kappa is: 0.07\n"
     ]
    },
    {
     "data": {
      "image/png": "[encoded data removed]",
      "text/plain": [
       "<Figure size 640x480 with 1 Axes>"
      ]
     },
     "metadata": {},
     "output_type": "display_data"
    },
    {
     "data": {
      "image/png": "[encoded data removed]",
      "text/plain": [
       "<Figure size 1200x600 with 8 Axes>"
      ]
     },
     "metadata": {},
     "output_type": "display_data"
    }
   ],
   "source": [
    "compare_raters(df)"
   ]
  },
  {
   "cell_type": "markdown",
   "metadata": {},
   "source": [
    "As it can be seen, the average of Kohen's Kappa across all 8 sets of essays is 0.75 $\\pm$ 0.07. This indicates substantial agreement among human raters. This baseline is important since we would like to compare the agreement between a human rater with the automated scoring system. "
   ]
  },
  {
   "cell_type": "markdown",
   "metadata": {},
   "source": [
    "**Summary:**\n",
    "- The dataset contains 8 sets of essays and  roughly 13000 essays total. \n",
    "- All essay sets except set 8 contain more than 1000 essays. \n",
    "- A normalized grade range (0-10) is used to linearly scale all essay set scores and define a target variable to be used during training. \n",
    "- Once normalized to a 0-10 range, the mean and standard deviation of final scores are 5.8 and 2.3 respectively. \n",
    "- Cohen's Kappa for the two human raters grading the essays has a mean of 0.75 and a standard deviation of 0.07."
   ]
  },
  {
   "cell_type": "markdown",
   "metadata": {},
   "source": [
    "### 2.1. Feature Engineering\n"
   ]
  },
  {
   "cell_type": "markdown",
   "metadata": {},
   "source": [
    "In order to build an automated essay scorer, we will need to first extract appropriate features from the essays. In the literature, features extracted by Coh-Metrix are typically used (for example, McNamara et al. 2014 and Ghanta, 2019). Coh-Metrix is a program that uses natural language processing to analyze discourse. It calculates a number of linguistic indices related to various aspects of language that can be used to determine the quality, readability and other specific properties of a written or spken text ([Ref](https://soletlab.asu.edu/coh-metrix/)). To the best of my knowledge, Coh-Metrix doesn't have a python implementation for the English language. Therefore, in the present study, a number of the more accessible Coh-Metrix-like features are computed using the *extract_features_bulk* function under the *feature_engineering* module. These features are engineered to capture the descriptive essence of essays as well as more complicated measures, such as text easability, referential cohesion, lexical diversity, connectiveness, syntactic complexity and readability. The table below includes the feature names and a corresponding short description for each. "
   ]
  },
  {
   "cell_type": "markdown",
   "metadata": {},
   "source": [
    "| Feature Name             | Explanation                                                                                          |\n",
    "|--------------------------|------------------------------------------------------------------------------------------------------|\n",
    "| num_words                | The total number of words in the essay. It provides an overall measure of essay length.              |\n",
    "| num_sentences            | The total number of sentences in the essay. This is an indicator of the essay's structure.            |\n",
    "| avg_sentence_length      | The average number of words per sentence. It gives an indication of sentence complexity.              |\n",
    "| std_sentence_length      | The standard deviation of sentence lengths. This shows the variability in sentence structure.         |\n",
    "| avg_syllable_count       | The average number of syllables per word. It reflects the complexity and sophistication of the words. |\n",
    "| std_syllable_count       | The standard deviation of syllable counts across words. This shows the variation in word complexity.  |\n",
    "| avg_letter_count         | The average number of letters per word. It gives an idea of word length and lexical richness.         |\n",
    "| std_letter_count         | The standard deviation of letter counts per word. This measures the variability in word length.       |\n",
    "| flesch_reading_ease      | A readability score indicating how easy the text is to read. Higher scores indicate easier readability.|\n",
    "| flesh_kincaid_grade      | A grade-level readability score. This indicates the U.S. school grade level required to understand the text.|\n",
    "| smog_index               | A readability measure based on sentence length and complex words. It provides a gauge of readability difficulty.|\n",
    "| lexical_diversity        | The ratio of unique words to total words. Higher values suggest a richer vocabulary.                  |\n",
    "| num_stopwords            | The proportion of stopwords in the text. A high proportion may indicate simpler language use.        |\n",
    "| num_pronouns             | The proportion of pronouns in the text. This can give insights into the personal style of the writer. |\n",
    "| num_verbs                | The proportion of verbs in the text. This can indicate the action-oriented nature of the text.        |\n",
    "| avg_tree_depth           | The average syntactic depth of words in the sentence. A measure of sentence complexity from a syntactic perspective. |\n",
    "| avg_concreteness         | The average concreteness of the words. Concreteness correlates with the level of abstraction in the text.|\n",
    "| num_misspelled           | The proportion of misspelled words. This may indicate the writer's attention to spelling or errors.    |\n",
    "| lsa_overlap_avg          | The average overlap in meaning between adjacent sentences, measured using Latent Semantic Analysis.    |\n"
   ]
  },
  {
   "cell_type": "markdown",
   "metadata": {},
   "source": [
    "In order for the model to capture the fact that the essay sets may be from different grades, with different score ranges, we add the essey_set column back in as a feature. "
   ]
  },
  {
   "cell_type": "code",
   "execution_count": 191,
   "metadata": {},
   "outputs": [],
   "source": [
    "# Note: setting make_features to True will run the extract_features_bulk function which will take ~15 minutes to run. \n",
    "# I've disabled this and I'm using the saved dataframe from a previous run to save time for anyone rerunning this notebook. Feel free to turn the flag to true and run the function.\n",
    "make_features = False\n",
    "if make_features:\n",
    "    df_features = extract_features_bulk(list(df['essay']))\n",
    "    df_features['essay_set'] = df.reset_index()['essay_set']\n",
    "    df_features['target'] = df.reset_index()['final_score_norm']\n",
    "    df_features['ordinal_score'] = df.reset_index()['final_score']\n",
    "    print(\"number of NaNs:\", df['final_score_norm'].isna().sum())\n",
    "    df_features.to_csv('./feature_engineered_data.csv')\n",
    "    "
   ]
  },
  {
   "cell_type": "code",
   "execution_count": 192,
   "metadata": {},
   "outputs": [
    {
     "data": {
      "text/html": [
       "<div>\n",
       "<style scoped>\n",
       "    .dataframe tbody tr th:only-of-type {\n",
       "        vertical-align: middle;\n",
       "    }\n",
       "\n",
       "    .dataframe tbody tr th {\n",
       "        vertical-align: top;\n",
       "    }\n",
       "\n",
       "    .dataframe thead th {\n",
       "        text-align: right;\n",
       "    }\n",
       "</style>\n",
       "<table border=\"1\" class=\"dataframe\">\n",
       "  <thead>\n",
       "    <tr style=\"text-align: right;\">\n",
       "      <th></th>\n",
       "      <th>num_words</th>\n",
       "      <th>num_sentences</th>\n",
       "      <th>avg_sentence_length</th>\n",
       "      <th>std_sentence_length</th>\n",
       "      <th>avg_syllable_count</th>\n",
       "      <th>std_syllable_count</th>\n",
       "      <th>avg_letter_count</th>\n",
       "      <th>std_letter_count</th>\n",
       "      <th>flesch_reading_ease</th>\n",
       "      <th>flesh_kincaid_grade</th>\n",
       "      <th>...</th>\n",
       "      <th>num_stopwords</th>\n",
       "      <th>num_pronouns</th>\n",
       "      <th>num_verbs</th>\n",
       "      <th>avg_tree_depth</th>\n",
       "      <th>avg_concreteness</th>\n",
       "      <th>num_misspelled</th>\n",
       "      <th>lsa_overlap_avg</th>\n",
       "      <th>essay_set</th>\n",
       "      <th>target</th>\n",
       "      <th>ordinal_score</th>\n",
       "    </tr>\n",
       "  </thead>\n",
       "  <tbody>\n",
       "    <tr>\n",
       "      <th>0</th>\n",
       "      <td>340</td>\n",
       "      <td>16</td>\n",
       "      <td>24.687500</td>\n",
       "      <td>15.369748</td>\n",
       "      <td>1.258824</td>\n",
       "      <td>0.577921</td>\n",
       "      <td>4.182353</td>\n",
       "      <td>2.068655</td>\n",
       "      <td>65.56</td>\n",
       "      <td>9.7</td>\n",
       "      <td>...</td>\n",
       "      <td>0.532353</td>\n",
       "      <td>0.141176</td>\n",
       "      <td>0.147059</td>\n",
       "      <td>3.614706</td>\n",
       "      <td>2.366471</td>\n",
       "      <td>0.026471</td>\n",
       "      <td>0.723433</td>\n",
       "      <td>1</td>\n",
       "      <td>6.0</td>\n",
       "      <td>8</td>\n",
       "    </tr>\n",
       "    <tr>\n",
       "      <th>1</th>\n",
       "      <td>410</td>\n",
       "      <td>20</td>\n",
       "      <td>22.800000</td>\n",
       "      <td>13.065020</td>\n",
       "      <td>1.375610</td>\n",
       "      <td>0.716819</td>\n",
       "      <td>4.290244</td>\n",
       "      <td>2.324769</td>\n",
       "      <td>67.08</td>\n",
       "      <td>9.1</td>\n",
       "      <td>...</td>\n",
       "      <td>0.475610</td>\n",
       "      <td>0.121951</td>\n",
       "      <td>0.168293</td>\n",
       "      <td>3.775610</td>\n",
       "      <td>2.231732</td>\n",
       "      <td>0.031707</td>\n",
       "      <td>0.545078</td>\n",
       "      <td>1</td>\n",
       "      <td>7.0</td>\n",
       "      <td>9</td>\n",
       "    </tr>\n",
       "    <tr>\n",
       "      <th>2</th>\n",
       "      <td>272</td>\n",
       "      <td>15</td>\n",
       "      <td>20.400000</td>\n",
       "      <td>13.329881</td>\n",
       "      <td>1.400735</td>\n",
       "      <td>0.747246</td>\n",
       "      <td>4.330882</td>\n",
       "      <td>2.330783</td>\n",
       "      <td>59.74</td>\n",
       "      <td>9.9</td>\n",
       "      <td>...</td>\n",
       "      <td>0.525735</td>\n",
       "      <td>0.095588</td>\n",
       "      <td>0.147059</td>\n",
       "      <td>3.459559</td>\n",
       "      <td>2.092757</td>\n",
       "      <td>0.003676</td>\n",
       "      <td>0.610131</td>\n",
       "      <td>1</td>\n",
       "      <td>5.0</td>\n",
       "      <td>7</td>\n",
       "    </tr>\n",
       "    <tr>\n",
       "      <th>3</th>\n",
       "      <td>485</td>\n",
       "      <td>27</td>\n",
       "      <td>21.333333</td>\n",
       "      <td>12.612570</td>\n",
       "      <td>1.468041</td>\n",
       "      <td>0.806424</td>\n",
       "      <td>4.680412</td>\n",
       "      <td>2.463563</td>\n",
       "      <td>51.78</td>\n",
       "      <td>10.9</td>\n",
       "      <td>...</td>\n",
       "      <td>0.459794</td>\n",
       "      <td>0.065979</td>\n",
       "      <td>0.148454</td>\n",
       "      <td>3.206186</td>\n",
       "      <td>2.097278</td>\n",
       "      <td>0.045361</td>\n",
       "      <td>0.784997</td>\n",
       "      <td>1</td>\n",
       "      <td>8.0</td>\n",
       "      <td>10</td>\n",
       "    </tr>\n",
       "    <tr>\n",
       "      <th>4</th>\n",
       "      <td>463</td>\n",
       "      <td>30</td>\n",
       "      <td>17.266667</td>\n",
       "      <td>7.153168</td>\n",
       "      <td>1.406048</td>\n",
       "      <td>0.761155</td>\n",
       "      <td>4.343413</td>\n",
       "      <td>2.306774</td>\n",
       "      <td>64.20</td>\n",
       "      <td>8.2</td>\n",
       "      <td>...</td>\n",
       "      <td>0.520518</td>\n",
       "      <td>0.088553</td>\n",
       "      <td>0.129590</td>\n",
       "      <td>2.645788</td>\n",
       "      <td>2.097473</td>\n",
       "      <td>0.019438</td>\n",
       "      <td>0.707326</td>\n",
       "      <td>1</td>\n",
       "      <td>6.0</td>\n",
       "      <td>8</td>\n",
       "    </tr>\n",
       "  </tbody>\n",
       "</table>\n",
       "<p>5 rows × 22 columns</p>\n",
       "</div>"
      ],
      "text/plain": [
       "   num_words  num_sentences  avg_sentence_length  std_sentence_length  \\\n",
       "0        340             16            24.687500            15.369748   \n",
       "1        410             20            22.800000            13.065020   \n",
       "2        272             15            20.400000            13.329881   \n",
       "3        485             27            21.333333            12.612570   \n",
       "4        463             30            17.266667             7.153168   \n",
       "\n",
       "   avg_syllable_count  std_syllable_count  avg_letter_count  std_letter_count  \\\n",
       "0            1.258824            0.577921          4.182353          2.068655   \n",
       "1            1.375610            0.716819          4.290244          2.324769   \n",
       "2            1.400735            0.747246          4.330882          2.330783   \n",
       "3            1.468041            0.806424          4.680412          2.463563   \n",
       "4            1.406048            0.761155          4.343413          2.306774   \n",
       "\n",
       "   flesch_reading_ease  flesh_kincaid_grade  ...  num_stopwords  num_pronouns  \\\n",
       "0                65.56                  9.7  ...       0.532353      0.141176   \n",
       "1                67.08                  9.1  ...       0.475610      0.121951   \n",
       "2                59.74                  9.9  ...       0.525735      0.095588   \n",
       "3                51.78                 10.9  ...       0.459794      0.065979   \n",
       "4                64.20                  8.2  ...       0.520518      0.088553   \n",
       "\n",
       "   num_verbs  avg_tree_depth  avg_concreteness  num_misspelled  \\\n",
       "0   0.147059        3.614706          2.366471        0.026471   \n",
       "1   0.168293        3.775610          2.231732        0.031707   \n",
       "2   0.147059        3.459559          2.092757        0.003676   \n",
       "3   0.148454        3.206186          2.097278        0.045361   \n",
       "4   0.129590        2.645788          2.097473        0.019438   \n",
       "\n",
       "   lsa_overlap_avg  essay_set  target  ordinal_score  \n",
       "0         0.723433          1     6.0              8  \n",
       "1         0.545078          1     7.0              9  \n",
       "2         0.610131          1     5.0              7  \n",
       "3         0.784997          1     8.0             10  \n",
       "4         0.707326          1     6.0              8  \n",
       "\n",
       "[5 rows x 22 columns]"
      ]
     },
     "execution_count": 192,
     "metadata": {},
     "output_type": "execute_result"
    }
   ],
   "source": [
    "df_features = pd.read_csv('./feature_engineered_data.csv', index_col=0)\n",
    "df_features.head()"
   ]
  },
  {
   "cell_type": "markdown",
   "metadata": {},
   "source": [
    "Test statistics for the engineered features:"
   ]
  },
  {
   "cell_type": "code",
   "execution_count": 193,
   "metadata": {},
   "outputs": [
    {
     "data": {
      "text/html": [
       "<div>\n",
       "<style scoped>\n",
       "    .dataframe tbody tr th:only-of-type {\n",
       "        vertical-align: middle;\n",
       "    }\n",
       "\n",
       "    .dataframe tbody tr th {\n",
       "        vertical-align: top;\n",
       "    }\n",
       "\n",
       "    .dataframe thead th {\n",
       "        text-align: right;\n",
       "    }\n",
       "</style>\n",
       "<table border=\"1\" class=\"dataframe\">\n",
       "  <thead>\n",
       "    <tr style=\"text-align: right;\">\n",
       "      <th></th>\n",
       "      <th>num_words</th>\n",
       "      <th>num_sentences</th>\n",
       "      <th>avg_sentence_length</th>\n",
       "      <th>std_sentence_length</th>\n",
       "      <th>avg_syllable_count</th>\n",
       "      <th>std_syllable_count</th>\n",
       "      <th>avg_letter_count</th>\n",
       "      <th>std_letter_count</th>\n",
       "      <th>flesch_reading_ease</th>\n",
       "      <th>flesh_kincaid_grade</th>\n",
       "      <th>...</th>\n",
       "      <th>num_stopwords</th>\n",
       "      <th>num_pronouns</th>\n",
       "      <th>num_verbs</th>\n",
       "      <th>avg_tree_depth</th>\n",
       "      <th>avg_concreteness</th>\n",
       "      <th>num_misspelled</th>\n",
       "      <th>lsa_overlap_avg</th>\n",
       "      <th>essay_set</th>\n",
       "      <th>target</th>\n",
       "      <th>ordinal_score</th>\n",
       "    </tr>\n",
       "  </thead>\n",
       "  <tbody>\n",
       "    <tr>\n",
       "      <th>count</th>\n",
       "      <td>12976.000000</td>\n",
       "      <td>12976.000000</td>\n",
       "      <td>12976.000000</td>\n",
       "      <td>12976.000000</td>\n",
       "      <td>12976.000000</td>\n",
       "      <td>12976.000000</td>\n",
       "      <td>12976.000000</td>\n",
       "      <td>12976.000000</td>\n",
       "      <td>12976.000000</td>\n",
       "      <td>12976.000000</td>\n",
       "      <td>...</td>\n",
       "      <td>12976.000000</td>\n",
       "      <td>12976.000000</td>\n",
       "      <td>12976.000000</td>\n",
       "      <td>12976.000000</td>\n",
       "      <td>12976.000000</td>\n",
       "      <td>12976.000000</td>\n",
       "      <td>12976.000000</td>\n",
       "      <td>12976.000000</td>\n",
       "      <td>12976.000000</td>\n",
       "      <td>12976.000000</td>\n",
       "    </tr>\n",
       "    <tr>\n",
       "      <th>mean</th>\n",
       "      <td>217.275740</td>\n",
       "      <td>13.334849</td>\n",
       "      <td>20.583843</td>\n",
       "      <td>8.991117</td>\n",
       "      <td>1.320627</td>\n",
       "      <td>0.625550</td>\n",
       "      <td>4.246550</td>\n",
       "      <td>2.125265</td>\n",
       "      <td>69.097643</td>\n",
       "      <td>8.385512</td>\n",
       "      <td>...</td>\n",
       "      <td>0.530054</td>\n",
       "      <td>0.126862</td>\n",
       "      <td>0.149993</td>\n",
       "      <td>3.030525</td>\n",
       "      <td>2.208555</td>\n",
       "      <td>0.021428</td>\n",
       "      <td>0.585697</td>\n",
       "      <td>4.179485</td>\n",
       "      <td>5.809379</td>\n",
       "      <td>6.800247</td>\n",
       "    </tr>\n",
       "    <tr>\n",
       "      <th>std</th>\n",
       "      <td>171.103381</td>\n",
       "      <td>11.392213</td>\n",
       "      <td>8.422842</td>\n",
       "      <td>5.601350</td>\n",
       "      <td>0.104922</td>\n",
       "      <td>0.135983</td>\n",
       "      <td>0.363851</td>\n",
       "      <td>0.272222</td>\n",
       "      <td>13.333458</td>\n",
       "      <td>3.840904</td>\n",
       "      <td>...</td>\n",
       "      <td>0.053555</td>\n",
       "      <td>0.053572</td>\n",
       "      <td>0.034050</td>\n",
       "      <td>0.601233</td>\n",
       "      <td>0.200126</td>\n",
       "      <td>0.022148</td>\n",
       "      <td>0.204479</td>\n",
       "      <td>2.136913</td>\n",
       "      <td>2.342421</td>\n",
       "      <td>8.970705</td>\n",
       "    </tr>\n",
       "    <tr>\n",
       "      <th>min</th>\n",
       "      <td>2.000000</td>\n",
       "      <td>1.000000</td>\n",
       "      <td>2.000000</td>\n",
       "      <td>0.000000</td>\n",
       "      <td>1.000000</td>\n",
       "      <td>0.000000</td>\n",
       "      <td>2.818182</td>\n",
       "      <td>0.781736</td>\n",
       "      <td>-195.130000</td>\n",
       "      <td>-2.300000</td>\n",
       "      <td>...</td>\n",
       "      <td>0.176471</td>\n",
       "      <td>0.000000</td>\n",
       "      <td>0.000000</td>\n",
       "      <td>0.500000</td>\n",
       "      <td>1.024848</td>\n",
       "      <td>0.000000</td>\n",
       "      <td>-0.500000</td>\n",
       "      <td>1.000000</td>\n",
       "      <td>0.000000</td>\n",
       "      <td>0.000000</td>\n",
       "    </tr>\n",
       "    <tr>\n",
       "      <th>25%</th>\n",
       "      <td>96.000000</td>\n",
       "      <td>5.000000</td>\n",
       "      <td>15.968013</td>\n",
       "      <td>5.972158</td>\n",
       "      <td>1.244014</td>\n",
       "      <td>0.529749</td>\n",
       "      <td>4.017003</td>\n",
       "      <td>1.940086</td>\n",
       "      <td>61.522500</td>\n",
       "      <td>6.400000</td>\n",
       "      <td>...</td>\n",
       "      <td>0.494737</td>\n",
       "      <td>0.090667</td>\n",
       "      <td>0.128571</td>\n",
       "      <td>2.643435</td>\n",
       "      <td>2.092083</td>\n",
       "      <td>0.007092</td>\n",
       "      <td>0.487382</td>\n",
       "      <td>2.000000</td>\n",
       "      <td>4.000000</td>\n",
       "      <td>2.000000</td>\n",
       "    </tr>\n",
       "    <tr>\n",
       "      <th>50%</th>\n",
       "      <td>159.000000</td>\n",
       "      <td>9.000000</td>\n",
       "      <td>19.183502</td>\n",
       "      <td>8.021032</td>\n",
       "      <td>1.319672</td>\n",
       "      <td>0.631681</td>\n",
       "      <td>4.263158</td>\n",
       "      <td>2.132914</td>\n",
       "      <td>69.720000</td>\n",
       "      <td>8.000000</td>\n",
       "      <td>...</td>\n",
       "      <td>0.532258</td>\n",
       "      <td>0.129283</td>\n",
       "      <td>0.149671</td>\n",
       "      <td>2.970504</td>\n",
       "      <td>2.215581</td>\n",
       "      <td>0.016393</td>\n",
       "      <td>0.634197</td>\n",
       "      <td>4.000000</td>\n",
       "      <td>6.000000</td>\n",
       "      <td>3.000000</td>\n",
       "    </tr>\n",
       "    <tr>\n",
       "      <th>75%</th>\n",
       "      <td>301.000000</td>\n",
       "      <td>19.000000</td>\n",
       "      <td>23.183239</td>\n",
       "      <td>10.778215</td>\n",
       "      <td>1.394538</td>\n",
       "      <td>0.725385</td>\n",
       "      <td>4.500000</td>\n",
       "      <td>2.318996</td>\n",
       "      <td>77.430000</td>\n",
       "      <td>9.800000</td>\n",
       "      <td>...</td>\n",
       "      <td>0.566038</td>\n",
       "      <td>0.163158</td>\n",
       "      <td>0.170668</td>\n",
       "      <td>3.325166</td>\n",
       "      <td>2.346809</td>\n",
       "      <td>0.029412</td>\n",
       "      <td>0.732272</td>\n",
       "      <td>6.000000</td>\n",
       "      <td>7.500000</td>\n",
       "      <td>8.000000</td>\n",
       "    </tr>\n",
       "    <tr>\n",
       "      <th>max</th>\n",
       "      <td>1052.000000</td>\n",
       "      <td>114.000000</td>\n",
       "      <td>231.000000</td>\n",
       "      <td>161.927453</td>\n",
       "      <td>1.794118</td>\n",
       "      <td>1.183216</td>\n",
       "      <td>6.100000</td>\n",
       "      <td>4.054070</td>\n",
       "      <td>118.180000</td>\n",
       "      <td>114.000000</td>\n",
       "      <td>...</td>\n",
       "      <td>0.800000</td>\n",
       "      <td>0.444444</td>\n",
       "      <td>0.600000</td>\n",
       "      <td>10.988889</td>\n",
       "      <td>3.150000</td>\n",
       "      <td>0.469697</td>\n",
       "      <td>0.963359</td>\n",
       "      <td>8.000000</td>\n",
       "      <td>10.000000</td>\n",
       "      <td>60.000000</td>\n",
       "    </tr>\n",
       "  </tbody>\n",
       "</table>\n",
       "<p>8 rows × 22 columns</p>\n",
       "</div>"
      ],
      "text/plain": [
       "          num_words  num_sentences  avg_sentence_length  std_sentence_length  \\\n",
       "count  12976.000000   12976.000000         12976.000000         12976.000000   \n",
       "mean     217.275740      13.334849            20.583843             8.991117   \n",
       "std      171.103381      11.392213             8.422842             5.601350   \n",
       "min        2.000000       1.000000             2.000000             0.000000   \n",
       "25%       96.000000       5.000000            15.968013             5.972158   \n",
       "50%      159.000000       9.000000            19.183502             8.021032   \n",
       "75%      301.000000      19.000000            23.183239            10.778215   \n",
       "max     1052.000000     114.000000           231.000000           161.927453   \n",
       "\n",
       "       avg_syllable_count  std_syllable_count  avg_letter_count  \\\n",
       "count        12976.000000        12976.000000      12976.000000   \n",
       "mean             1.320627            0.625550          4.246550   \n",
       "std              0.104922            0.135983          0.363851   \n",
       "min              1.000000            0.000000          2.818182   \n",
       "25%              1.244014            0.529749          4.017003   \n",
       "50%              1.319672            0.631681          4.263158   \n",
       "75%              1.394538            0.725385          4.500000   \n",
       "max              1.794118            1.183216          6.100000   \n",
       "\n",
       "       std_letter_count  flesch_reading_ease  flesh_kincaid_grade  ...  \\\n",
       "count      12976.000000         12976.000000         12976.000000  ...   \n",
       "mean           2.125265            69.097643             8.385512  ...   \n",
       "std            0.272222            13.333458             3.840904  ...   \n",
       "min            0.781736          -195.130000            -2.300000  ...   \n",
       "25%            1.940086            61.522500             6.400000  ...   \n",
       "50%            2.132914            69.720000             8.000000  ...   \n",
       "75%            2.318996            77.430000             9.800000  ...   \n",
       "max            4.054070           118.180000           114.000000  ...   \n",
       "\n",
       "       num_stopwords  num_pronouns     num_verbs  avg_tree_depth  \\\n",
       "count   12976.000000  12976.000000  12976.000000    12976.000000   \n",
       "mean        0.530054      0.126862      0.149993        3.030525   \n",
       "std         0.053555      0.053572      0.034050        0.601233   \n",
       "min         0.176471      0.000000      0.000000        0.500000   \n",
       "25%         0.494737      0.090667      0.128571        2.643435   \n",
       "50%         0.532258      0.129283      0.149671        2.970504   \n",
       "75%         0.566038      0.163158      0.170668        3.325166   \n",
       "max         0.800000      0.444444      0.600000       10.988889   \n",
       "\n",
       "       avg_concreteness  num_misspelled  lsa_overlap_avg     essay_set  \\\n",
       "count      12976.000000    12976.000000     12976.000000  12976.000000   \n",
       "mean           2.208555        0.021428         0.585697      4.179485   \n",
       "std            0.200126        0.022148         0.204479      2.136913   \n",
       "min            1.024848        0.000000        -0.500000      1.000000   \n",
       "25%            2.092083        0.007092         0.487382      2.000000   \n",
       "50%            2.215581        0.016393         0.634197      4.000000   \n",
       "75%            2.346809        0.029412         0.732272      6.000000   \n",
       "max            3.150000        0.469697         0.963359      8.000000   \n",
       "\n",
       "             target  ordinal_score  \n",
       "count  12976.000000   12976.000000  \n",
       "mean       5.809379       6.800247  \n",
       "std        2.342421       8.970705  \n",
       "min        0.000000       0.000000  \n",
       "25%        4.000000       2.000000  \n",
       "50%        6.000000       3.000000  \n",
       "75%        7.500000       8.000000  \n",
       "max       10.000000      60.000000  \n",
       "\n",
       "[8 rows x 22 columns]"
      ]
     },
     "execution_count": 193,
     "metadata": {},
     "output_type": "execute_result"
    }
   ],
   "source": [
    "df_features.describe()"
   ]
  },
  {
   "cell_type": "markdown",
   "metadata": {},
   "source": [
    "**Summary:**\n",
    "- The final dataset contains roughly 13000 entries and 20 features (including essay_set). \n",
    "- The devised features are based on features constructed in the Coh-Metrix software. These features are engineered to capture the descriptive essence of essays as well as more complicated measures, such as text easability, referential cohesion, lexical diversity, connectiveness, syntactic complexity and readability. The table below includes the feature names and a corresponding short description for each. "
   ]
  },
  {
   "cell_type": "markdown",
   "metadata": {},
   "source": [
    "## 3. Machine Learning Model"
   ]
  },
  {
   "cell_type": "markdown",
   "metadata": {},
   "source": [
    "Several algorithms have been used in the literature for designing automated essay scoring engines: Linear Regression, Random Forest Regressor and Linear Support Vector Regressor, to name a few. McNamara et al (2015) showed that using a hierarchical classification approach may be used with comparable accuracy and the advantage of providing better feedback to students. Transformer models  (including fine-tuned models based on existing architectures) have also been utilized to devise powerful AES engines (Ludwig et al., 2021). In this work, we use a random forest regressor. The random forest regressor has been shown to outperform other classical regression models and it can handle both numerical as well as categorical features easily (recall that we kept the categorical feature, essay_set). Although I made an attempt to fine-tune a transformer model using the HuggingFace library, the fine-tuning of such models on a standard laptop is time-intensive and out of the scope of this project.  "
   ]
  },
  {
   "cell_type": "markdown",
   "metadata": {},
   "source": [
    "**Evaluation Metrics:**\n",
    "\n",
    "While we use the negative mean squared error as the evaluation metric for cross-validation, we keep in mind that the original scores are ordinal and are best compared using the Cohen's kappa score - this is also detailed in the competition's instructions. Note that *quadratic kappa* penalizes large differences in the prediction more than small differences (for example, a 3 point difference between the model's prediction and the human rater will be way more heavily penalized compared to a 1-point difference). *linear kappa*, however, uses similar weights for all data points regardless of how far the predictions are from the true values. In this sense, quadratic kappa is similar to the *adjacent accuracy* metric, which is a common measiure for assessing the accuracy of automatic essay grading models. This is the metric we will use in the end to assess the model on test data."
   ]
  },
  {
   "cell_type": "markdown",
   "metadata": {},
   "source": [
    "### Random Forest Regressor"
   ]
  },
  {
   "cell_type": "code",
   "execution_count": 194,
   "metadata": {},
   "outputs": [],
   "source": [
    "X = df_features.drop(columns=['target', 'ordinal_score', 'num_words']).values\n",
    "# X = df_features.drop(columns=['target', 'ordinal_score', 'num_words', 'num_sentences', 'avg_sentence_length', 'essay_set']).values\n",
    "y = df_features['target'].values\n",
    "essay_set = df_features['essay_set'].values\n",
    "ord_scores = df_features['ordinal_score'].values\n",
    "\n",
    "# Split train-test\n",
    "X_train, X_test, y_train, y_test, es_train, es_test, ord_score_train, ord_score_test = train_test_split(X, y, essay_set, ord_scores, test_size=0.2, random_state=42)"
   ]
  },
  {
   "cell_type": "markdown",
   "metadata": {},
   "source": [
    "**Compare essay set distribution for train and test**"
   ]
  },
  {
   "cell_type": "code",
   "execution_count": 195,
   "metadata": {},
   "outputs": [
    {
     "data": {
      "image/png": "[encoded data removed]",
      "text/plain": [
       "<Figure size 640x480 with 1 Axes>"
      ]
     },
     "metadata": {},
     "output_type": "display_data"
    }
   ],
   "source": [
    "es_train_grouped = pd.DataFrame(data = es_train, columns=['essay_set']).groupby('essay_set')\n",
    "es_test_grouped = pd.DataFrame(data = es_test, columns=['essay_set']).groupby('essay_set')\n",
    "\n",
    "es_set_count_merged = (es_train_grouped.size()/es_train.shape[0]*100).reset_index(name='train_count').merge((es_test_grouped.size()/es_test.shape[0]*100).reset_index(name='test_count'), how='inner', on='essay_set')\n",
    "es_set_count_merged.set_index(es_set_count_merged['essay_set'], inplace=True)\n",
    "es_set_count_merged.drop(columns='essay_set', inplace=True)\n",
    "\n",
    "fig, ax  = plt.subplots()\n",
    "es_set_count_merged.plot(kind='bar', ax=ax, color=['#2b8cbe', '#a6bddb'], rot=0)\n",
    "ax.set_xlabel('Essay set #')\n",
    "ax.set_ylabel('Percentage essay count')\n",
    "ax.legend(['train', 'test']);"
   ]
  },
  {
   "cell_type": "code",
   "execution_count": 196,
   "metadata": {},
   "outputs": [
    {
     "name": "stdout",
     "output_type": "stream",
     "text": [
      "Fitting 3 folds for each of 25 candidates, totalling 75 fits\n",
      "Cross-validated MSE: 2.16\n",
      "Cross-validated R2: 0.61\n",
      "Test MSE:2.08\n",
      "Test R2:0.62\n"
     ]
    }
   ],
   "source": [
    "# Random Forest + Hyperparameter tuning\n",
    "rf = RandomForestRegressor()\n",
    "\n",
    "param_dist = {\n",
    "    'n_estimators': [50, 100, 200],\n",
    "    'max_depth': [5, 10, 20, 50],\n",
    "    'min_samples_split': [2, 5, 10],\n",
    "    'min_samples_leaf': [1, 2, 4]\n",
    "}\n",
    "\n",
    "random_search = RandomizedSearchCV(\n",
    "    rf, param_distributions=param_dist,\n",
    "    n_iter=25, cv=3, verbose=1,\n",
    "    n_jobs=-1\n",
    ")\n",
    "\n",
    "# Fit the model\n",
    "random_search.fit(X_train, y_train)\n",
    "\n",
    "# Best estimator\n",
    "best_model = random_search.best_estimator_\n",
    "\n",
    "# Cross-validation on the best model\n",
    "cv = KFold(n_splits=3, shuffle=True, random_state=42)\n",
    "cv_mse = cross_val_score(best_model, X_train, y_train, cv=cv, scoring='neg_mean_squared_error')\n",
    "cv_r2 = cross_val_score(best_model, X_train, y_train, cv=cv, scoring='r2')\n",
    "\n",
    "cv_mse = -np.mean(cv_mse)\n",
    "cv_r2 = np.mean(cv_r2)\n",
    "\n",
    "print(f\"Cross-validated MSE: {cv_mse:.2f}\")\n",
    "print(f\"Cross-validated R2: {cv_r2:.2f}\")\n",
    "\n",
    "# Test set prediction\n",
    "y_pred = best_model.predict(X_test)\n",
    "\n",
    "# Test MSE and R2\n",
    "test_mse = mean_squared_error(y_test, y_pred)\n",
    "test_r2 = r2_score(y_test, y_pred)\n",
    "print(f\"Test MSE:{test_mse:.2f}\")\n",
    "print(f\"Test R2:{test_r2:.2f}\")"
   ]
  },
  {
   "cell_type": "markdown",
   "metadata": {},
   "source": [
    "**Evaluation of Cohen's Kappa:**"
   ]
  },
  {
   "cell_type": "code",
   "execution_count": 197,
   "metadata": {},
   "outputs": [],
   "source": [
    "df_test = pd.DataFrame({'essay_set':es_test, 'final_score_norm':y_test, 'final_score':ord_score_test, 'final_score_pred':y_pred})"
   ]
  },
  {
   "cell_type": "code",
   "execution_count": 198,
   "metadata": {},
   "outputs": [
    {
     "name": "stdout",
     "output_type": "stream",
     "text": [
      "Cohen's Kappa (quadratic weighting) on test data: 0.69\n",
      "Cohen's Kappa (linear weighting) on test data: 0.53\n"
     ]
    }
   ],
   "source": [
    "test_cohen_kappa_quadratic=[]\n",
    "test_cohen_kappa_linear=[]\n",
    "\n",
    "for i,group in df_test.groupby('essay_set'):\n",
    "    min_range = rubric_range[i]['final_min']\n",
    "    max_range = rubric_range[i]['final_max']\n",
    "    group['y_pred_denorm'] = group['final_score_pred'].apply(denormalize_scores, args=(min_range, max_range))\n",
    "    test_cohen_kappa_quadratic.append(cohen_kappa_score(group['final_score'], np.round(group['y_pred_denorm']), weights='quadratic'))\n",
    "    test_cohen_kappa_linear.append(cohen_kappa_score(group['final_score'], np.round(group['y_pred_denorm']), weights='linear'))\n",
    "\n",
    "print(f\"Cohen's Kappa (quadratic weighting) on test data: {np.mean(test_cohen_kappa_quadratic):.2f}\")\n",
    "print(f\"Cohen's Kappa (linear weighting) on test data: {np.mean(test_cohen_kappa_linear):.2f}\")\n",
    "    "
   ]
  },
  {
   "cell_type": "markdown",
   "metadata": {},
   "source": [
    "**Fearure Importances:**"
   ]
  },
  {
   "cell_type": "code",
   "execution_count": 200,
   "metadata": {},
   "outputs": [
    {
     "data": {
      "image/png": "[encoded data removed]",
      "text/plain": [
       "<Figure size 640x480 with 1 Axes>"
      ]
     },
     "metadata": {},
     "output_type": "display_data"
    }
   ],
   "source": [
    "feature_importances = best_model.feature_importances_\n",
    "feature_names = df_features.drop(columns=['target', 'ordinal_score', 'num_words']).columns\n",
    "# feature_names = df_features.drop(columns=['target', 'ordinal_score', 'num_words', 'num_sentences', 'avg_sentence_length', 'essay_set']).columns\n",
    "feature_imp_df = pd.DataFrame(data=feature_importances, columns=['importance_factor'])\n",
    "feature_imp_df.set_index(feature_names, inplace=True)\n",
    "\n",
    "fig, ax = plt.subplots()\n",
    "feature_imp_df.sort_values(by='importance_factor').tail().plot(kind='barh', ax=ax, ylabel='Feature name', xlabel='Feature importance', color='#c994c7')\n",
    "ax.legend('');"
   ]
  },
  {
   "cell_type": "code",
   "execution_count": 201,
   "metadata": {},
   "outputs": [
    {
     "data": {
      "text/html": [
       "<div>\n",
       "<style scoped>\n",
       "    .dataframe tbody tr th:only-of-type {\n",
       "        vertical-align: middle;\n",
       "    }\n",
       "\n",
       "    .dataframe tbody tr th {\n",
       "        vertical-align: top;\n",
       "    }\n",
       "\n",
       "    .dataframe thead th {\n",
       "        text-align: right;\n",
       "    }\n",
       "</style>\n",
       "<table border=\"1\" class=\"dataframe\">\n",
       "  <thead>\n",
       "    <tr style=\"text-align: right;\">\n",
       "      <th></th>\n",
       "      <th>importance_factor</th>\n",
       "    </tr>\n",
       "  </thead>\n",
       "  <tbody>\n",
       "    <tr>\n",
       "      <th>num_sentences</th>\n",
       "      <td>0.375769</td>\n",
       "    </tr>\n",
       "    <tr>\n",
       "      <th>essay_set</th>\n",
       "      <td>0.110504</td>\n",
       "    </tr>\n",
       "    <tr>\n",
       "      <th>avg_sentence_length</th>\n",
       "      <td>0.081029</td>\n",
       "    </tr>\n",
       "    <tr>\n",
       "      <th>smog_index</th>\n",
       "      <td>0.061622</td>\n",
       "    </tr>\n",
       "    <tr>\n",
       "      <th>num_stopwords</th>\n",
       "      <td>0.050351</td>\n",
       "    </tr>\n",
       "  </tbody>\n",
       "</table>\n",
       "</div>"
      ],
      "text/plain": [
       "                     importance_factor\n",
       "num_sentences                 0.375769\n",
       "essay_set                     0.110504\n",
       "avg_sentence_length           0.081029\n",
       "smog_index                    0.061622\n",
       "num_stopwords                 0.050351"
      ]
     },
     "execution_count": 201,
     "metadata": {},
     "output_type": "execute_result"
    }
   ],
   "source": [
    "feature_imp_df.sort_values(by='importance_factor', ascending=False).head()"
   ]
  },
  {
   "cell_type": "markdown",
   "metadata": {},
   "source": [
    "**IMPORTANT NOTE:** When length-based features (such as number of words) are included, the random forest regressor was latching onto them (for example, word count had an importance factor of 0.49, followed by 0.13 as the next highest; this raised a red flag). \n",
    "\n",
    "The model's reliance on word count highlights a *known bias* in Automated Essay Scoring (AES) systems, where essay length can correlate with higher scores. Despite designing a rich set of linguistic and structural features, the model may disproportionately weight essay length. This result underscores the importance of developing AES systems that prioritize writing quality over verbosity. "
   ]
  },
  {
   "cell_type": "markdown",
   "metadata": {},
   "source": [
    "The fact that the importance factors of the top 5 features are still relatively low indicate that the model needs richer features to be robust. "
   ]
  },
  {
   "cell_type": "markdown",
   "metadata": {},
   "source": [
    "### Transformer-Based Model: a preliminary peek"
   ]
  },
  {
   "cell_type": "code",
   "execution_count": null,
   "metadata": {},
   "outputs": [],
   "source": [
    "# from sentence_transformers import SentenceTransformer\n",
    "# model = SentenceTransformer('all-MiniLM-L6-v2')\n",
    "\n",
    "# def generate_embeddings(essays):\n",
    "#     return model.encode(essays, show_progress_bar=True)\n",
    "\n",
    "# # Assuming the essays are in a column 'essay_text'\n",
    "# essays = df['essay'].tolist()\n",
    "\n",
    "# embeddings = generate_embeddings(essays)"
   ]
  },
  {
   "cell_type": "code",
   "execution_count": null,
   "metadata": {},
   "outputs": [],
   "source": [
    "# # Split the dataset into train and test\n",
    "# X_train, X_test, y_train, y_test = train_test_split(embeddings, df['final_score_norm'], test_size=0.2, random_state=42)\n",
    "\n",
    "# # Train the Random Forest model on the embeddings\n",
    "# rf_model_embeddings = RandomForestRegressor(random_state=42)\n",
    "# rf_model_embeddings.fit(X_train, y_train)\n",
    "\n",
    "# # Make predictions\n",
    "# y_pred_embeddings = rf_model_embeddings.predict(X_test)\n",
    "\n",
    "# # Calculate evaluation metrics\n",
    "# test_mse_embeddings = mean_squared_error(y_test, y_pred_embeddings)\n",
    "# test_r2_embeddings = r2_score(y_test, y_pred_embeddings)\n",
    "\n",
    "# # Print the results\n",
    "# print(f\"Test MSE (Embeddings Only): {test_mse_embeddings:.2f}\")\n",
    "# print(f\"Test R² (Embeddings Only): {test_r2_embeddings:.2f}\")"
   ]
  },
  {
   "cell_type": "markdown",
   "metadata": {},
   "source": [
    "## 4. Results"
   ]
  },
  {
   "cell_type": "markdown",
   "metadata": {},
   "source": [
    "1. The cross-validated and test mean squared error of the model are close to 2 (units: normalized score).\n",
    "\n",
    "2. The best-fit model has an $R^2$ of roughly 0.6. This means that the model explains only 60% of the variability in the target variable (normalized scores). Although $R^2$ matters more for inferential modeling, a moderate value of $R^2$ can still yield a strong predictive model.\n",
    "\n",
    "3. The random forest regressor achieved a quadratic weighted kappa score of 0.69. This is barely meeting the minimum requirement for an acceptable AES model (the minimum acceptable score is 0.7 per Doewes et al., 2023).\n",
    "\n",
    "4. The model's reliance on length-based features highlights a *known bias* in Automated Essay Scoring (AES) systems, where essay length can correlate with higher scores. Designing a richer set of features (including embeddings from a transformer-based model) is expected to improve this behavior."
   ]
  },
  {
   "cell_type": "markdown",
   "metadata": {},
   "source": [
    "## 5. Limitations and next steps"
   ]
  },
  {
   "cell_type": "markdown",
   "metadata": {},
   "source": [
    "1. The model can benefit from enriched features that can help improve its performance. The current model may rely on length-based features far more than features that capture the context and meaning of the text. This is a known problem with AES engines. Enriching the features with sentence-embeddings using transformer models has been shown to help resolve this behavior (Doewes et al., 2021).\n",
    "\n",
    "2. Training one model per essay set is expected to improve performance. Each essay has a different prompt and different score range. Adding features"
   ]
  },
  {
   "cell_type": "markdown",
   "metadata": {},
   "source": [
    "## References\n",
    "\n",
    "1. Ghanta, Harshanti, Automated essay evaluation using natural language processing and machine learning, 2019, Master of Science Thesis. [Link](https://csuepress.columbusstate.edu/theses_dissertations/327/) \n",
    "\n",
    "2. Ludwig, S., Mayer, C., Hanse, C., Eilers, K., Brandt, S., Automated essay scoring using transformer models. [Link](https://arxiv.org/abs/2110.06874)\n",
    "\n",
    "3. McNamara, D., Crossley, S., Roscoe, R., Allen, L., Dai, J., A hierarchical classification approach to automated essay scoring, Assessing Writing Journal, 2015. [Link](https://www.sciencedirect.com/science/article/abs/pii/S1075293514000427)\n",
    "\n",
    "4. McNamara, D. S., Graesser, A. C., McCarthy, P., & Cai, Z. Automated Evaluation of Text and Discourse with Coh-Metrix. Cambridge: Cambridge University Press, 2014. [Link](https://www.researchgate.net/profile/Danielle-Mcnamara/publication/285651904_Coh-Metrix_An_Automated_Tool_for_Theoretical_and_Applied_Natural_Language_Processing/links/5dc45b4b4585151435f2ee91/Coh-Metrix-An-Automated-Tool-for-Theoretical-and-Applied-Natural-Language-Processing.pdf)\n",
    "\n",
    "5. Doewes, A., Pechenizkiy, M., On the limitations of human-computer agreement in automated essay scoring, International, educational data mining society, 2021. [Link](https://files.eric.ed.gov/fulltext/ED615602.pdf)\n",
    "\n",
    "6. Doewes, A., Kurdhi, N., Saxena, A., Evaluating quadratic weighted kappa as the standard performance metric for automated essay scoring, Educational data mining, 2023. [Link](https://educationaldatamining.org/EDM2023/proceedings/2023.EDM-long-papers.9/index.html#Xdoewes2021limitations)"
   ]
  },
  {
   "cell_type": "markdown",
   "metadata": {},
   "source": []
  }
 ],
 "metadata": {
  "kernelspec": {
   "display_name": "my-learn-env",
   "language": "python",
   "name": "python3"
  },
  "language_info": {
   "codemirror_mode": {
    "name": "ipython",
    "version": 3
   },
   "file_extension": ".py",
   "mimetype": "text/x-python",
   "name": "python",
   "nbconvert_exporter": "python",
   "pygments_lexer": "ipython3",
   "version": "3.9.18"
  }
 },
 "nbformat": 4,
 "nbformat_minor": 2
}
